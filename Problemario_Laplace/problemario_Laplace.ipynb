{
 "cells": [
  {
   "cell_type": "markdown",
   "id": "14b1f355",
   "metadata": {},
   "source": [
    "<img src=\"./media/itsoeh.png\" width=\"300\" align=\"center\">"
   ]
  },
  {
   "cell_type": "markdown",
   "id": "b091ea99",
   "metadata": {},
   "source": [
    "# Problemario\n",
    "\n"
   ]
  },
  {
   "cell_type": "markdown",
   "id": "54f47897",
   "metadata": {},
   "source": [
    "Nombre del alumno: ALAN BAUTISTA CRUZ\n",
    "\n"
   ]
  },
  {
   "cell_type": "markdown",
   "id": "207446ab",
   "metadata": {},
   "source": [
    "Asignatura: Matemáticas Aplicadas a Comunicaciones"
   ]
  },
  {
   "cell_type": "markdown",
   "id": "3cf5fa4f",
   "metadata": {},
   "source": [
    "Fecha de entrega: "
   ]
  },
  {
   "cell_type": "markdown",
   "id": "c54c7349",
   "metadata": {},
   "source": [
    "Tema:"
   ]
  },
  {
   "cell_type": "markdown",
   "id": "bf3dbcff",
   "metadata": {},
   "source": [
    "### Sección I:\n"
   ]
  },
  {
   "cell_type": "markdown",
   "id": "19fb9a69",
   "metadata": {},
   "source": [
    "Instrucciones\n",
    "\n",
    "Resuelva las siguientes ecuaciones diferenciales empleando los métodos revisados en clase:\n",
    "\n",
    "- Transformada de Laplace\n",
    "- Transformada inversa de Laplace"
   ]
  },
  {
   "cell_type": "code",
   "execution_count": 2,
   "id": "7658a779",
   "metadata": {},
   "outputs": [],
   "source": [
    "import matplotlib.pyplot as plt\n",
    "from matplotlib import pyplot\n",
    "import numpy as np\n",
    "import sympy as sp\n",
    "from sympy import sin, cos, sec, csc\n",
    "from sympy import Symbol, Function, Eq, exp\n",
    "from scipy import integrate\n",
    "import matplotlib.image as mpimg"
   ]
  },
  {
   "cell_type": "code",
   "execution_count": 1,
   "id": "33d66942",
   "metadata": {},
   "outputs": [],
   "source": [
    "from PIL import Image\n",
    "from IPython.display import display, Latex\n",
    "import sympy #Added import statement\n",
    "\n",
    "sympy.init_printing(use_latex='mathjax')"
   ]
  },
  {
   "cell_type": "markdown",
   "id": "b1b880bf",
   "metadata": {},
   "source": [
    "# Evidencia de revición "
   ]
  },
  {
   "cell_type": "markdown",
   "id": "d9559054",
   "metadata": {},
   "source": [
    "<img src=\"./media/Revicion1.jpg\" width=\"300\" align=\"center\">"
   ]
  },
  {
   "cell_type": "markdown",
   "id": "57e918fb",
   "metadata": {},
   "source": [
    "#### Ejercicio 1"
   ]
  },
  {
   "cell_type": "markdown",
   "id": "30f27ecb",
   "metadata": {},
   "source": [
    "<img src=\"./media/Laplace1.jpg\" width=\"300\" align=\"center\">"
   ]
  },
  {
   "cell_type": "code",
   "execution_count": 20,
   "id": "83080869",
   "metadata": {},
   "outputs": [
    {
     "name": "stdout",
     "output_type": "stream",
     "text": [
      "La función f(t) es:\n"
     ]
    },
    {
     "data": {
      "text/latex": [
       "$\\displaystyle k$"
      ],
      "text/plain": [
       "k"
      ]
     },
     "metadata": {},
     "output_type": "display_data"
    },
    {
     "name": "stdout",
     "output_type": "stream",
     "text": [
      "\n",
      "La transformada de Laplace F(s) es:\n"
     ]
    },
    {
     "data": {
      "text/latex": [
       "$\\displaystyle \\frac{k}{s}$"
      ],
      "text/plain": [
       "k\n",
       "─\n",
       "s"
      ]
     },
     "metadata": {},
     "output_type": "display_data"
    }
   ],
   "source": [
    "t, s = sp.symbols('t s')\n",
    "k = sp.symbols('k')\n",
    "\n",
    "f_t = k\n",
    "\n",
    "laplace_f = sp.laplace_transform(f_t, t, s)\n",
    "\n",
    "print(\"La función f(t) es:\")\n",
    "display(f_t)\n",
    "print(\"\\nLa transformada de Laplace F(s) es:\")\n",
    "display(laplace_f[0])"
   ]
  },
  {
   "cell_type": "markdown",
   "id": "ae56b126",
   "metadata": {},
   "source": [
    "<img src=\"./media/Laplace2-3.jpg\" width=\"300\" align=\"center\">"
   ]
  },
  {
   "cell_type": "markdown",
   "id": "0302c3a0",
   "metadata": {},
   "source": [
    "#### Ejercicio 2"
   ]
  },
  {
   "cell_type": "code",
   "execution_count": 21,
   "id": "f0c27f52",
   "metadata": {},
   "outputs": [
    {
     "name": "stdout",
     "output_type": "stream",
     "text": [
      "La función f(t) es:\n"
     ]
    },
    {
     "data": {
      "text/latex": [
       "$\\displaystyle t$"
      ],
      "text/plain": [
       "t"
      ]
     },
     "metadata": {},
     "output_type": "display_data"
    },
    {
     "name": "stdout",
     "output_type": "stream",
     "text": [
      "\n",
      "La transformada de Laplace F(s) es:\n"
     ]
    },
    {
     "data": {
      "text/latex": [
       "$\\displaystyle \\frac{1}{s^{2}}$"
      ],
      "text/plain": [
       "1 \n",
       "──\n",
       " 2\n",
       "s "
      ]
     },
     "metadata": {},
     "output_type": "display_data"
    }
   ],
   "source": [
    "t, s = sp.symbols('t s')\n",
    "\n",
    "f_t = t\n",
    "\n",
    "laplace_f = sp.laplace_transform(f_t, t, s)\n",
    "\n",
    "print(\"La función f(t) es:\")\n",
    "display(f_t)\n",
    "print(\"\\nLa transformada de Laplace F(s) es:\")\n",
    "display(laplace_f[0])"
   ]
  },
  {
   "cell_type": "markdown",
   "id": "3b251b14",
   "metadata": {},
   "source": [
    "#### Ejercicio 3"
   ]
  },
  {
   "cell_type": "code",
   "execution_count": 22,
   "id": "bacaba13",
   "metadata": {},
   "outputs": [
    {
     "name": "stdout",
     "output_type": "stream",
     "text": [
      "La función f(t) es:\n"
     ]
    },
    {
     "data": {
      "text/latex": [
       "$\\displaystyle e^{- 3 t}$"
      ],
      "text/plain": [
       " -3⋅t\n",
       "ℯ    "
      ]
     },
     "metadata": {},
     "output_type": "display_data"
    },
    {
     "name": "stdout",
     "output_type": "stream",
     "text": [
      "\n",
      "La transformada de Laplace F(s) es:\n"
     ]
    },
    {
     "data": {
      "text/latex": [
       "$\\displaystyle \\frac{1}{s + 3}$"
      ],
      "text/plain": [
       "  1  \n",
       "─────\n",
       "s + 3"
      ]
     },
     "metadata": {},
     "output_type": "display_data"
    }
   ],
   "source": [
    "t, s = sp.symbols('t s')\n",
    "\n",
    "f_t = sp.exp(-3*t)\n",
    "\n",
    "laplace_f = sp.laplace_transform(f_t, t, s)\n",
    "\n",
    "print(\"La función f(t) es:\")\n",
    "display(f_t)\n",
    "print(\"\\nLa transformada de Laplace F(s) es:\")\n",
    "display(laplace_f[0])"
   ]
  },
  {
   "cell_type": "markdown",
   "id": "121885b3",
   "metadata": {},
   "source": [
    "<img src=\"./media/Laplace4-5.jpg\" width=\"300\" align=\"center\">"
   ]
  },
  {
   "cell_type": "markdown",
   "id": "100dea66",
   "metadata": {},
   "source": [
    "#### Ejercicio 4"
   ]
  },
  {
   "cell_type": "code",
   "execution_count": 23,
   "id": "61782e21",
   "metadata": {},
   "outputs": [
    {
     "name": "stdout",
     "output_type": "stream",
     "text": [
      "La función f(t) es:\n"
     ]
    },
    {
     "data": {
      "text/latex": [
       "$\\displaystyle e^{\\alpha t}$"
      ],
      "text/plain": [
       " α⋅t\n",
       "ℯ   "
      ]
     },
     "metadata": {},
     "output_type": "display_data"
    },
    {
     "name": "stdout",
     "output_type": "stream",
     "text": [
      "\n",
      "La transformada de Laplace F(s) es:\n"
     ]
    },
    {
     "data": {
      "text/latex": [
       "$\\displaystyle \\frac{1}{- \\alpha + s}$"
      ],
      "text/plain": [
       "  1   \n",
       "──────\n",
       "-α + s"
      ]
     },
     "metadata": {},
     "output_type": "display_data"
    }
   ],
   "source": [
    "t, s, alpha = sp.symbols('t s alpha')\n",
    "\n",
    "f_t = sp.exp(alpha*t)\n",
    "\n",
    "laplace_f = sp.laplace_transform(f_t, t, s)\n",
    "\n",
    "print(\"La función f(t) es:\")\n",
    "display(f_t)\n",
    "print(\"\\nLa transformada de Laplace F(s) es:\")\n",
    "display(laplace_f[0])"
   ]
  },
  {
   "cell_type": "markdown",
   "id": "cbcde561",
   "metadata": {},
   "source": [
    "#### Ejercicio 5"
   ]
  },
  {
   "cell_type": "code",
   "execution_count": 24,
   "id": "1a904c58",
   "metadata": {},
   "outputs": [
    {
     "name": "stdout",
     "output_type": "stream",
     "text": [
      "La función f(t) es:\n"
     ]
    },
    {
     "data": {
      "text/latex": [
       "$\\displaystyle \\sin{\\left(2 t \\right)}$"
      ],
      "text/plain": [
       "sin(2⋅t)"
      ]
     },
     "metadata": {},
     "output_type": "display_data"
    },
    {
     "name": "stdout",
     "output_type": "stream",
     "text": [
      "\n",
      "La transformada de Laplace F(s) es:\n"
     ]
    },
    {
     "data": {
      "text/latex": [
       "$\\displaystyle \\frac{2}{s^{2} + 4}$"
      ],
      "text/plain": [
       "  2   \n",
       "──────\n",
       " 2    \n",
       "s  + 4"
      ]
     },
     "metadata": {},
     "output_type": "display_data"
    }
   ],
   "source": [
    "t, s = sp.symbols('t s')\n",
    "\n",
    "f_t = sp.sin(2*t)\n",
    "\n",
    "laplace_f = sp.laplace_transform(f_t, t, s)\n",
    "\n",
    "print(\"La función f(t) es:\")\n",
    "display(f_t)\n",
    "print(\"\\nLa transformada de Laplace F(s) es:\")\n",
    "display(laplace_f[0])"
   ]
  },
  {
   "cell_type": "markdown",
   "id": "bcee5594",
   "metadata": {},
   "source": [
    "<img src=\"./media/Laplace6.jpg\" width=\"300\" align=\"center\">"
   ]
  },
  {
   "cell_type": "markdown",
   "id": "7b847ba4",
   "metadata": {},
   "source": [
    "#### Ejercicio 6"
   ]
  },
  {
   "cell_type": "code",
   "execution_count": 25,
   "id": "0cc00486",
   "metadata": {},
   "outputs": [
    {
     "name": "stdout",
     "output_type": "stream",
     "text": [
      "La función f(t) es:\n"
     ]
    },
    {
     "data": {
      "text/latex": [
       "$\\displaystyle 5 t + 1$"
      ],
      "text/plain": [
       "5⋅t + 1"
      ]
     },
     "metadata": {},
     "output_type": "display_data"
    },
    {
     "name": "stdout",
     "output_type": "stream",
     "text": [
      "\n",
      "La transformada de Laplace F(s) es:\n"
     ]
    },
    {
     "data": {
      "text/latex": [
       "$\\displaystyle \\frac{1}{s} + \\frac{5}{s^{2}}$"
      ],
      "text/plain": [
       "1   5 \n",
       "─ + ──\n",
       "s    2\n",
       "    s "
      ]
     },
     "metadata": {},
     "output_type": "display_data"
    }
   ],
   "source": [
    "t, s = sp.symbols('t s')\n",
    "\n",
    "f_t = 1 + 5*t\n",
    "\n",
    "laplace_f = sp.laplace_transform(f_t, t, s)\n",
    "\n",
    "print(\"La función f(t) es:\")\n",
    "display(f_t)\n",
    "print(\"\\nLa transformada de Laplace F(s) es:\")\n",
    "display(laplace_f[0])"
   ]
  },
  {
   "cell_type": "markdown",
   "id": "290e259a",
   "metadata": {},
   "source": [
    "<img src=\"./media/Laplace7.jpg\" width=\"300\" align=\"center\">"
   ]
  },
  {
   "cell_type": "markdown",
   "id": "239114cc",
   "metadata": {},
   "source": [
    "#### Ejercicio 7\n"
   ]
  },
  {
   "cell_type": "code",
   "execution_count": 26,
   "id": "e7a60581",
   "metadata": {},
   "outputs": [
    {
     "name": "stdout",
     "output_type": "stream",
     "text": [
      "La función f(t) es:\n"
     ]
    },
    {
     "data": {
      "text/latex": [
       "$\\displaystyle 5 e^{3 t} - 2 \\sin{\\left(2 t \\right)}$"
      ],
      "text/plain": [
       "   3⋅t             \n",
       "5⋅ℯ    - 2⋅sin(2⋅t)"
      ]
     },
     "metadata": {},
     "output_type": "display_data"
    },
    {
     "name": "stdout",
     "output_type": "stream",
     "text": [
      "\n",
      "La transformada de Laplace F(s) es:\n"
     ]
    },
    {
     "data": {
      "text/latex": [
       "$\\displaystyle - \\frac{4}{s^{2} + 4} + \\frac{5}{s - 3}$"
      ],
      "text/plain": [
       "    4        5  \n",
       "- ────── + ─────\n",
       "   2       s - 3\n",
       "  s  + 4        "
      ]
     },
     "metadata": {},
     "output_type": "display_data"
    }
   ],
   "source": [
    "t, s = sp.symbols('t s')\n",
    "\n",
    "f_t = 5*sp.exp(3*t) - 2*sp.sin(2*t)\n",
    "\n",
    "laplace_f = sp.laplace_transform(f_t, t, s)\n",
    "\n",
    "print(\"La función f(t) es:\")\n",
    "display(f_t)\n",
    "print(\"\\nLa transformada de Laplace F(s) es:\")\n",
    "display(laplace_f[0])"
   ]
  },
  {
   "cell_type": "markdown",
   "id": "799222f9",
   "metadata": {},
   "source": [
    "<img src=\"./media/Laplace8.jpg\" width=\"300\" align=\"center\">"
   ]
  },
  {
   "cell_type": "markdown",
   "id": "baf11aef",
   "metadata": {},
   "source": [
    "#### Ejercicio 8"
   ]
  },
  {
   "cell_type": "code",
   "execution_count": 27,
   "id": "0b72cf82",
   "metadata": {},
   "outputs": [
    {
     "name": "stdout",
     "output_type": "stream",
     "text": [
      "La función f(t) es:\n"
     ]
    },
    {
     "data": {
      "text/latex": [
       "$\\displaystyle t \\cos{\\left(t \\right)}$"
      ],
      "text/plain": [
       "t⋅cos(t)"
      ]
     },
     "metadata": {},
     "output_type": "display_data"
    },
    {
     "name": "stdout",
     "output_type": "stream",
     "text": [
      "\n",
      "La transformada de Laplace F(s) es:\n"
     ]
    },
    {
     "data": {
      "text/latex": [
       "$\\displaystyle \\frac{1}{2 \\left(s + i\\right)^{2}} + \\frac{1}{2 \\left(s - i\\right)^{2}}$"
      ],
      "text/plain": [
       "    1            1     \n",
       "────────── + ──────────\n",
       "         2            2\n",
       "2⋅(s + ⅈ)    2⋅(s - ⅈ) "
      ]
     },
     "metadata": {},
     "output_type": "display_data"
    }
   ],
   "source": [
    "t, s = sp.symbols('t s')\n",
    "\n",
    "f_t = t*sp.cos(t)\n",
    "\n",
    "laplace_f = sp.laplace_transform(f_t, t, s)\n",
    "\n",
    "print(\"La función f(t) es:\")\n",
    "display(f_t)\n",
    "print(\"\\nLa transformada de Laplace F(s) es:\")\n",
    "display(laplace_f[0])"
   ]
  },
  {
   "cell_type": "markdown",
   "id": "0cb7fc08",
   "metadata": {},
   "source": [
    "<img src=\"./media/Laplace9.jpg\" width=\"300\" align=\"center\">"
   ]
  },
  {
   "cell_type": "markdown",
   "id": "83d8d797",
   "metadata": {},
   "source": [
    "#### Ejercicio 9"
   ]
  },
  {
   "cell_type": "code",
   "execution_count": 28,
   "id": "d8838d1f",
   "metadata": {},
   "outputs": [
    {
     "name": "stdout",
     "output_type": "stream",
     "text": [
      "La función f(t) es:\n"
     ]
    },
    {
     "data": {
      "text/latex": [
       "$\\displaystyle e^{- t} \\sin{\\left(t \\right)}$"
      ],
      "text/plain": [
       " -t       \n",
       "ℯ  ⋅sin(t)"
      ]
     },
     "metadata": {},
     "output_type": "display_data"
    },
    {
     "name": "stdout",
     "output_type": "stream",
     "text": [
      "\n",
      "La transformada de Laplace F(s) es:\n"
     ]
    },
    {
     "data": {
      "text/latex": [
       "$\\displaystyle \\frac{1}{\\left(s + 1\\right)^{2} + 1}$"
      ],
      "text/plain": [
       "     1      \n",
       "────────────\n",
       "       2    \n",
       "(s + 1)  + 1"
      ]
     },
     "metadata": {},
     "output_type": "display_data"
    }
   ],
   "source": [
    "t, s = sp.symbols('t s')\n",
    "\n",
    "f_t = sp.exp(-t)*sp.sin(t)\n",
    "\n",
    "laplace_f = sp.laplace_transform(f_t, t, s)\n",
    "\n",
    "print(\"La función f(t) es:\")\n",
    "display(f_t)\n",
    "print(\"\\nLa transformada de Laplace F(s) es:\")\n",
    "display(laplace_f[0])"
   ]
  },
  {
   "cell_type": "markdown",
   "id": "35f4dcf8",
   "metadata": {},
   "source": [
    "<img src=\"./media/Laplace10.jpg\" width=\"300\" align=\"center\">"
   ]
  },
  {
   "cell_type": "markdown",
   "id": "a5ad963d",
   "metadata": {},
   "source": [
    "#### Ejercicio 10"
   ]
  },
  {
   "cell_type": "code",
   "execution_count": 29,
   "id": "7fa962cf",
   "metadata": {},
   "outputs": [
    {
     "name": "stdout",
     "output_type": "stream",
     "text": [
      "La función f(t) es:\n"
     ]
    },
    {
     "data": {
      "text/latex": [
       "$\\displaystyle \\frac{\\cos{\\left(2 t \\right)}}{2} + \\frac{1}{2}$"
      ],
      "text/plain": [
       "cos(2⋅t)   1\n",
       "──────── + ─\n",
       "   2       2"
      ]
     },
     "metadata": {},
     "output_type": "display_data"
    },
    {
     "name": "stdout",
     "output_type": "stream",
     "text": [
      "\n",
      "La transformada de Laplace F(s) es:\n"
     ]
    },
    {
     "data": {
      "text/latex": [
       "$\\displaystyle \\frac{s}{2 \\left(s^{2} + 4\\right)} + \\frac{1}{2 s}$"
      ],
      "text/plain": [
       "    s         1 \n",
       "────────── + ───\n",
       "  ⎛ 2    ⎞   2⋅s\n",
       "2⋅⎝s  + 4⎠      "
      ]
     },
     "metadata": {},
     "output_type": "display_data"
    }
   ],
   "source": [
    "t, s = sp.symbols('t s')\n",
    "\n",
    "f_t = (1 + sp.cos(2*t)) / 2\n",
    "\n",
    "laplace_f = sp.laplace_transform(f_t, t, s)\n",
    "\n",
    "print(\"La función f(t) es:\")\n",
    "display(f_t)\n",
    "print(\"\\nLa transformada de Laplace F(s) es:\")\n",
    "display(laplace_f[0])"
   ]
  },
  {
   "cell_type": "markdown",
   "id": "1f27805b",
   "metadata": {},
   "source": [
    "<img src=\"./media/Laplace11-12.jpg\" width=\"300\" align=\"center\">"
   ]
  },
  {
   "cell_type": "markdown",
   "id": "01448c3c",
   "metadata": {},
   "source": [
    "#### Ejercicio 11"
   ]
  },
  {
   "cell_type": "code",
   "execution_count": 30,
   "id": "d65d255d",
   "metadata": {},
   "outputs": [
    {
     "name": "stdout",
     "output_type": "stream",
     "text": [
      "La función f(t) es:\n"
     ]
    },
    {
     "data": {
      "text/latex": [
       "$\\displaystyle \\cos^{2}{\\left(t \\right)}$"
      ],
      "text/plain": [
       "   2   \n",
       "cos (t)"
      ]
     },
     "metadata": {},
     "output_type": "display_data"
    },
    {
     "name": "stdout",
     "output_type": "stream",
     "text": [
      "\n",
      "La transformada de Laplace F(s) es:\n"
     ]
    },
    {
     "data": {
      "text/latex": [
       "$\\displaystyle \\frac{s^{2} + 2}{s \\left(s^{2} + 4\\right)}$"
      ],
      "text/plain": [
       "   2      \n",
       "  s  + 2  \n",
       "──────────\n",
       "  ⎛ 2    ⎞\n",
       "s⋅⎝s  + 4⎠"
      ]
     },
     "metadata": {},
     "output_type": "display_data"
    }
   ],
   "source": [
    "t, s = sp.symbols('t s')\n",
    "\n",
    "f_t = sp.cos(t)**2\n",
    "\n",
    "laplace_f = sp.laplace_transform(f_t, t, s)\n",
    "\n",
    "print(\"La función f(t) es:\")\n",
    "display(f_t)\n",
    "print(\"\\nLa transformada de Laplace F(s) es:\")\n",
    "display(laplace_f[0])"
   ]
  },
  {
   "cell_type": "markdown",
   "id": "85580177",
   "metadata": {},
   "source": [
    "#### Ejercicio 12"
   ]
  },
  {
   "cell_type": "code",
   "execution_count": 31,
   "id": "39b8cf16",
   "metadata": {},
   "outputs": [
    {
     "name": "stdout",
     "output_type": "stream",
     "text": [
      "La función f(t) es:\n"
     ]
    },
    {
     "data": {
      "text/latex": [
       "$\\displaystyle t^{2} e^{\\alpha t}$"
      ],
      "text/plain": [
       " 2  α⋅t\n",
       "t ⋅ℯ   "
      ]
     },
     "metadata": {},
     "output_type": "display_data"
    },
    {
     "name": "stdout",
     "output_type": "stream",
     "text": [
      "\n",
      "La transformada de Laplace F(s) es:\n"
     ]
    },
    {
     "data": {
      "text/latex": [
       "$\\displaystyle \\frac{2}{\\left(- \\alpha + s\\right)^{3}}$"
      ],
      "text/plain": [
       "    2    \n",
       "─────────\n",
       "        3\n",
       "(-α + s) "
      ]
     },
     "metadata": {},
     "output_type": "display_data"
    }
   ],
   "source": [
    "t, s, alpha = sp.symbols('t s alpha')\n",
    "\n",
    "f_t = t**2 * sp.exp(alpha*t)\n",
    "\n",
    "laplace_f = sp.laplace_transform(f_t, t, s)\n",
    "\n",
    "print(\"La función f(t) es:\")\n",
    "display(f_t)\n",
    "print(\"\\nLa transformada de Laplace F(s) es:\")\n",
    "display(laplace_f[0])"
   ]
  },
  {
   "cell_type": "markdown",
   "id": "e533a39f",
   "metadata": {},
   "source": [
    "# La inversa de Laplace"
   ]
  },
  {
   "cell_type": "markdown",
   "id": "22379c89",
   "metadata": {},
   "source": [
    "<img src=\"./media/Inv1-3.jpg\" width=\"300\" align=\"center\">"
   ]
  },
  {
   "cell_type": "markdown",
   "id": "627fe404",
   "metadata": {},
   "source": [
    "#### Ejercicio 1"
   ]
  },
  {
   "cell_type": "code",
   "execution_count": 16,
   "id": "188f2f83",
   "metadata": {},
   "outputs": [
    {
     "name": "stdout",
     "output_type": "stream",
     "text": [
      "La función F(s) es:\n"
     ]
    },
    {
     "data": {
      "text/latex": [
       "$\\displaystyle \\frac{1}{s^{5}}$"
      ],
      "text/plain": [
       "1 \n",
       "──\n",
       " 5\n",
       "s "
      ]
     },
     "metadata": {},
     "output_type": "display_data"
    },
    {
     "name": "stdout",
     "output_type": "stream",
     "text": [
      "\n",
      "La transformada inversa f(t) es:\n"
     ]
    },
    {
     "data": {
      "text/latex": [
       "$\\displaystyle \\frac{t^{4} \\theta\\left(t\\right)}{24}$"
      ],
      "text/plain": [
       " 4     \n",
       "t ⋅θ(t)\n",
       "───────\n",
       "  24   "
      ]
     },
     "metadata": {},
     "output_type": "display_data"
    }
   ],
   "source": [
    "s, t = sp.symbols('s t')\n",
    "\n",
    "F_s = 1/s**5\n",
    "\n",
    "f_t = sp.inverse_laplace_transform(F_s, s, t)\n",
    "\n",
    "print(\"La función F(s) es:\")\n",
    "display(F_s)\n",
    "print(\"\\nLa transformada inversa f(t) es:\")\n",
    "display(f_t)"
   ]
  },
  {
   "cell_type": "markdown",
   "id": "eec71a83",
   "metadata": {},
   "source": [
    "#### Ejercicio 2\n"
   ]
  },
  {
   "cell_type": "code",
   "execution_count": 4,
   "id": "7d07cab2",
   "metadata": {},
   "outputs": [
    {
     "name": "stdout",
     "output_type": "stream",
     "text": [
      "La función F(s) es:\n"
     ]
    },
    {
     "data": {
      "text/latex": [
       "$\\displaystyle \\frac{1}{s^{2} + 7}$"
      ],
      "text/plain": [
       "  1   \n",
       "──────\n",
       " 2    \n",
       "s  + 7"
      ]
     },
     "metadata": {},
     "output_type": "display_data"
    },
    {
     "name": "stdout",
     "output_type": "stream",
     "text": [
      "\n",
      "La transformada inversa f(t) es:\n"
     ]
    },
    {
     "data": {
      "text/latex": [
       "$\\displaystyle \\frac{\\sqrt{7} \\sin{\\left(\\sqrt{7} t \\right)} \\theta\\left(t\\right)}{7}$"
      ],
      "text/plain": [
       "√7⋅sin(√7⋅t)⋅θ(t)\n",
       "─────────────────\n",
       "        7        "
      ]
     },
     "metadata": {},
     "output_type": "display_data"
    }
   ],
   "source": [
    "s, t = sp.symbols('s t')\n",
    "\n",
    "F_s = 1/(s**2 + 7)\n",
    "\n",
    "f_t = sp.inverse_laplace_transform(F_s, s, t)\n",
    "\n",
    "print(\"La función F(s) es:\")\n",
    "display(F_s)\n",
    "print(\"\\nLa transformada inversa f(t) es:\")\n",
    "display(f_t)"
   ]
  },
  {
   "cell_type": "markdown",
   "id": "22363166",
   "metadata": {},
   "source": [
    "#### Ejercicio 3"
   ]
  },
  {
   "cell_type": "code",
   "execution_count": 5,
   "id": "568a6c83",
   "metadata": {},
   "outputs": [
    {
     "name": "stdout",
     "output_type": "stream",
     "text": [
      "La función F(s) es:\n"
     ]
    },
    {
     "data": {
      "text/latex": [
       "$\\displaystyle \\frac{1}{s^{4}}$"
      ],
      "text/plain": [
       "1 \n",
       "──\n",
       " 4\n",
       "s "
      ]
     },
     "metadata": {},
     "output_type": "display_data"
    },
    {
     "name": "stdout",
     "output_type": "stream",
     "text": [
      "\n",
      "La transformada inversa f(t) es:\n"
     ]
    },
    {
     "data": {
      "text/latex": [
       "$\\displaystyle \\frac{t^{3} \\theta\\left(t\\right)}{6}$"
      ],
      "text/plain": [
       " 3     \n",
       "t ⋅θ(t)\n",
       "───────\n",
       "   6   "
      ]
     },
     "metadata": {},
     "output_type": "display_data"
    }
   ],
   "source": [
    "s, t = sp.symbols('s t')\n",
    "\n",
    "F_s = 1/s**4\n",
    "\n",
    "f_t = sp.inverse_laplace_transform(F_s, s, t)\n",
    "\n",
    "print(\"La función F(s) es:\")\n",
    "display(F_s)\n",
    "print(\"\\nLa transformada inversa f(t) es:\")\n",
    "display(f_t)"
   ]
  },
  {
   "cell_type": "markdown",
   "id": "7be0551f",
   "metadata": {},
   "source": [
    "<img src=\"./media/Inv4-5.jpg\" width=\"300\" align=\"center\">"
   ]
  },
  {
   "cell_type": "markdown",
   "id": "ae17b259",
   "metadata": {},
   "source": [
    "#### Ejercicio 4"
   ]
  },
  {
   "cell_type": "code",
   "execution_count": 8,
   "id": "572d3722",
   "metadata": {},
   "outputs": [
    {
     "name": "stdout",
     "output_type": "stream",
     "text": [
      "La función F(s) es:\n"
     ]
    },
    {
     "data": {
      "text/latex": [
       "$\\displaystyle \\left(\\frac{2}{s} - \\frac{1}{s^{3}}\\right)^{2}$"
      ],
      "text/plain": [
       "        2\n",
       "⎛2   1 ⎞ \n",
       "⎜─ - ──⎟ \n",
       "⎜s    3⎟ \n",
       "⎝    s ⎠ "
      ]
     },
     "metadata": {},
     "output_type": "display_data"
    },
    {
     "name": "stdout",
     "output_type": "stream",
     "text": [
      "\n",
      "La transformada inversa f(t) es:\n"
     ]
    },
    {
     "data": {
      "text/latex": [
       "$\\displaystyle \\frac{t^{5} \\theta\\left(t\\right)}{120} - \\frac{2 t^{3} \\theta\\left(t\\right)}{3} + 4 t \\theta\\left(t\\right)$"
      ],
      "text/plain": [
       " 5           3                \n",
       "t ⋅θ(t)   2⋅t ⋅θ(t)           \n",
       "─────── - ───────── + 4⋅t⋅θ(t)\n",
       "  120         3               "
      ]
     },
     "metadata": {},
     "output_type": "display_data"
    }
   ],
   "source": [
    "s, t = sp.symbols('s t')\n",
    "\n",
    "F_s = (2/s - 1/s**3)**2\n",
    "\n",
    "f_t = sp.inverse_laplace_transform(F_s, s, t)\n",
    "\n",
    "print(\"La función F(s) es:\")\n",
    "display(F_s)\n",
    "print(\"\\nLa transformada inversa f(t) es:\")\n",
    "display(f_t)\n"
   ]
  },
  {
   "cell_type": "markdown",
   "id": "c800aa1f",
   "metadata": {},
   "source": [
    "<img src=\"./media/Inv5-6.jpg\" width=\"300\" align=\"center\">"
   ]
  },
  {
   "cell_type": "markdown",
   "id": "d361cd87",
   "metadata": {},
   "source": [
    "#### Ejercicio 5"
   ]
  },
  {
   "cell_type": "code",
   "execution_count": 9,
   "id": "829bc95d",
   "metadata": {},
   "outputs": [
    {
     "name": "stdout",
     "output_type": "stream",
     "text": [
      "La función F(s) es:\n"
     ]
    },
    {
     "data": {
      "text/latex": [
       "$\\displaystyle \\frac{10 s}{s^{2} + 16}$"
      ],
      "text/plain": [
       " 10⋅s  \n",
       "───────\n",
       " 2     \n",
       "s  + 16"
      ]
     },
     "metadata": {},
     "output_type": "display_data"
    },
    {
     "name": "stdout",
     "output_type": "stream",
     "text": [
      "\n",
      "La transformada inversa f(t) es:\n"
     ]
    },
    {
     "data": {
      "text/latex": [
       "$\\displaystyle 10 \\cos{\\left(4 t \\right)} \\theta\\left(t\\right)$"
      ],
      "text/plain": [
       "10⋅cos(4⋅t)⋅θ(t)"
      ]
     },
     "metadata": {},
     "output_type": "display_data"
    }
   ],
   "source": [
    "s, t = sp.symbols('s t')\n",
    "\n",
    "F_s = (10*s)/(s**2 + 16)\n",
    "\n",
    "f_t = sp.inverse_laplace_transform(F_s, s, t)\n",
    "\n",
    "print(\"La función F(s) es:\")\n",
    "display(F_s)\n",
    "print(\"\\nLa transformada inversa f(t) es:\")\n",
    "display(f_t)"
   ]
  },
  {
   "cell_type": "markdown",
   "id": "a547d5f6",
   "metadata": {},
   "source": [
    "#### Ejercicio 6"
   ]
  },
  {
   "cell_type": "code",
   "execution_count": 10,
   "id": "66857c5d",
   "metadata": {},
   "outputs": [
    {
     "name": "stdout",
     "output_type": "stream",
     "text": [
      "La función F(s) es:\n"
     ]
    },
    {
     "data": {
      "text/latex": [
       "$\\displaystyle \\frac{s}{s^{2} + 2 s - 3}$"
      ],
      "text/plain": [
       "     s      \n",
       "────────────\n",
       " 2          \n",
       "s  + 2⋅s - 3"
      ]
     },
     "metadata": {},
     "output_type": "display_data"
    },
    {
     "name": "stdout",
     "output_type": "stream",
     "text": [
      "\n",
      "La transformada inversa f(t) es:\n"
     ]
    },
    {
     "data": {
      "text/latex": [
       "$\\displaystyle \\frac{e^{t} \\theta\\left(t\\right)}{4} + \\frac{3 e^{- 3 t} \\theta\\left(t\\right)}{4}$"
      ],
      "text/plain": [
       " t           -3⋅t     \n",
       "ℯ ⋅θ(t)   3⋅ℯ    ⋅θ(t)\n",
       "─────── + ────────────\n",
       "   4           4      "
      ]
     },
     "metadata": {},
     "output_type": "display_data"
    }
   ],
   "source": [
    "s, t = sp.symbols('s t')\n",
    "\n",
    "F_s = s/(s**2 + 2*s - 3)\n",
    "\n",
    "f_t = sp.inverse_laplace_transform(F_s, s, t)\n",
    "\n",
    "print(\"La función F(s) es:\")\n",
    "display(F_s)\n",
    "print(\"\\nLa transformada inversa f(t) es:\")\n",
    "display(f_t)"
   ]
  },
  {
   "cell_type": "markdown",
   "id": "68b40f44",
   "metadata": {},
   "source": [
    "<img src=\"./media/Inv7-8.jpg\" width=\"300\" align=\"center\">"
   ]
  },
  {
   "cell_type": "markdown",
   "id": "d26c0c5d",
   "metadata": {},
   "source": [
    "#### Ejercicio 7"
   ]
  },
  {
   "cell_type": "code",
   "execution_count": 11,
   "id": "9f197a4a",
   "metadata": {},
   "outputs": [
    {
     "name": "stdout",
     "output_type": "stream",
     "text": [
      "La función F(s) es:\n"
     ]
    },
    {
     "data": {
      "text/latex": [
       "$\\displaystyle \\frac{1}{s^{3} + 5 s}$"
      ],
      "text/plain": [
       "   1    \n",
       "────────\n",
       " 3      \n",
       "s  + 5⋅s"
      ]
     },
     "metadata": {},
     "output_type": "display_data"
    },
    {
     "name": "stdout",
     "output_type": "stream",
     "text": [
      "\n",
      "La transformada inversa f(t) es:\n"
     ]
    },
    {
     "data": {
      "text/latex": [
       "$\\displaystyle - \\frac{\\cos{\\left(\\sqrt{5} t \\right)} \\theta\\left(t\\right)}{5} + \\frac{\\theta\\left(t\\right)}{5}$"
      ],
      "text/plain": [
       "  cos(√5⋅t)⋅θ(t)   θ(t)\n",
       "- ────────────── + ────\n",
       "        5           5  "
      ]
     },
     "metadata": {},
     "output_type": "display_data"
    }
   ],
   "source": [
    "s, t = sp.symbols('s t')\n",
    "\n",
    "F_s = 1/(s**3 + 5*s)\n",
    "\n",
    "f_t = sp.inverse_laplace_transform(F_s, s, t)\n",
    "\n",
    "print(\"La función F(s) es:\")\n",
    "display(F_s)\n",
    "print(\"\\nLa transformada inversa f(t) es:\")\n",
    "display(f_t)"
   ]
  },
  {
   "cell_type": "markdown",
   "id": "f449442a",
   "metadata": {},
   "source": [
    "#### Ejercicio 8"
   ]
  },
  {
   "cell_type": "code",
   "execution_count": 12,
   "id": "6f4a305e",
   "metadata": {},
   "outputs": [
    {
     "name": "stdout",
     "output_type": "stream",
     "text": [
      "La función F(s) es:\n"
     ]
    },
    {
     "data": {
      "text/latex": [
       "$\\displaystyle \\frac{s + 1}{s^{2} - 4 s}$"
      ],
      "text/plain": [
       " s + 1  \n",
       "────────\n",
       " 2      \n",
       "s  - 4⋅s"
      ]
     },
     "metadata": {},
     "output_type": "display_data"
    },
    {
     "name": "stdout",
     "output_type": "stream",
     "text": [
      "\n",
      "La transformada inversa f(t) es:\n"
     ]
    },
    {
     "data": {
      "text/latex": [
       "$\\displaystyle \\frac{5 e^{4 t} \\theta\\left(t\\right)}{4} - \\frac{\\theta\\left(t\\right)}{4}$"
      ],
      "text/plain": [
       "   4⋅t            \n",
       "5⋅ℯ   ⋅θ(t)   θ(t)\n",
       "─────────── - ────\n",
       "     4         4  "
      ]
     },
     "metadata": {},
     "output_type": "display_data"
    }
   ],
   "source": [
    "s, t = sp.symbols('s t')\n",
    "\n",
    "F_s = (s + 1)/(s**2 - 4*s)\n",
    "\n",
    "f_t = sp.inverse_laplace_transform(F_s, s, t)\n",
    "\n",
    "print(\"La función F(s) es:\")\n",
    "display(F_s)\n",
    "print(\"\\nLa transformada inversa f(t) es:\")\n",
    "display(f_t)"
   ]
  },
  {
   "cell_type": "markdown",
   "id": "00da280b",
   "metadata": {},
   "source": [
    "<img src=\"./media/Inv9-10.jpg\" width=\"300\" align=\"center\">"
   ]
  },
  {
   "cell_type": "markdown",
   "id": "1983320f",
   "metadata": {},
   "source": [
    "#### Ejercicio 9"
   ]
  },
  {
   "cell_type": "code",
   "execution_count": 13,
   "id": "bc0fc462",
   "metadata": {},
   "outputs": [
    {
     "name": "stdout",
     "output_type": "stream",
     "text": [
      "La función F(s) es:\n"
     ]
    },
    {
     "data": {
      "text/latex": [
       "$\\displaystyle \\frac{2 s - 3}{s^{2} - 7 s - 8}$"
      ],
      "text/plain": [
       "  2⋅s - 3   \n",
       "────────────\n",
       " 2          \n",
       "s  - 7⋅s - 8"
      ]
     },
     "metadata": {},
     "output_type": "display_data"
    },
    {
     "name": "stdout",
     "output_type": "stream",
     "text": [
      "\n",
      "La transformada inversa f(t) es:\n"
     ]
    },
    {
     "data": {
      "text/latex": [
       "$\\displaystyle \\frac{13 e^{8 t} \\theta\\left(t\\right)}{9} + \\frac{5 e^{- t} \\theta\\left(t\\right)}{9}$"
      ],
      "text/plain": [
       "    8⋅t           -t     \n",
       "13⋅ℯ   ⋅θ(t)   5⋅ℯ  ⋅θ(t)\n",
       "──────────── + ──────────\n",
       "     9             9     "
      ]
     },
     "metadata": {},
     "output_type": "display_data"
    }
   ],
   "source": [
    "s, t = sp.symbols('s t')\n",
    "\n",
    "F_s = (2*s - 3)/(s**2 - 7*s - 8)\n",
    "\n",
    "f_t = sp.inverse_laplace_transform(F_s, s, t)\n",
    "\n",
    "print(\"La función F(s) es:\")\n",
    "display(F_s)\n",
    "print(\"\\nLa transformada inversa f(t) es:\")\n",
    "display(f_t)"
   ]
  },
  {
   "cell_type": "markdown",
   "id": "089327c9",
   "metadata": {},
   "source": [
    "#### Ejercicio 10"
   ]
  },
  {
   "cell_type": "code",
   "execution_count": 14,
   "id": "40e21a22",
   "metadata": {},
   "outputs": [
    {
     "name": "stdout",
     "output_type": "stream",
     "text": [
      "La función F(s) es:\n"
     ]
    },
    {
     "data": {
      "text/latex": [
       "$\\displaystyle \\frac{4 s}{4 s^{2} + 1}$"
      ],
      "text/plain": [
       "  4⋅s   \n",
       "────────\n",
       "   2    \n",
       "4⋅s  + 1"
      ]
     },
     "metadata": {},
     "output_type": "display_data"
    },
    {
     "name": "stdout",
     "output_type": "stream",
     "text": [
      "\n",
      "La transformada inversa f(t) es:\n"
     ]
    },
    {
     "data": {
      "text/latex": [
       "$\\displaystyle \\cos{\\left(\\frac{t}{2} \\right)} \\theta\\left(t\\right)$"
      ],
      "text/plain": [
       "   ⎛t⎞     \n",
       "cos⎜─⎟⋅θ(t)\n",
       "   ⎝2⎠     "
      ]
     },
     "metadata": {},
     "output_type": "display_data"
    }
   ],
   "source": [
    "s, t = sp.symbols('s t')\n",
    "\n",
    "F_s = (4*s)/(4*s**2 + 1)\n",
    "\n",
    "f_t = sp.inverse_laplace_transform(F_s, s, t)\n",
    "\n",
    "print(\"La función F(s) es:\")\n",
    "display(F_s)\n",
    "print(\"\\nLa transformada inversa f(t) es:\")\n",
    "display(f_t)"
   ]
  },
  {
   "cell_type": "markdown",
   "id": "285e0261",
   "metadata": {},
   "source": [
    "<img src=\"./media/Inv11-12.jpg\" width=\"300\" align=\"center\">"
   ]
  },
  {
   "cell_type": "markdown",
   "id": "ace5b80f",
   "metadata": {},
   "source": [
    "#### Ejercicio 11"
   ]
  },
  {
   "cell_type": "code",
   "execution_count": 15,
   "id": "54498c6a",
   "metadata": {},
   "outputs": [
    {
     "name": "stdout",
     "output_type": "stream",
     "text": [
      "La función F(s) es:\n"
     ]
    },
    {
     "data": {
      "text/latex": [
       "$\\displaystyle \\frac{5}{s^{2} + 49}$"
      ],
      "text/plain": [
       "   5   \n",
       "───────\n",
       " 2     \n",
       "s  + 49"
      ]
     },
     "metadata": {},
     "output_type": "display_data"
    },
    {
     "name": "stdout",
     "output_type": "stream",
     "text": [
      "\n",
      "La transformada inversa f(t) es:\n"
     ]
    },
    {
     "data": {
      "text/latex": [
       "$\\displaystyle \\frac{5 \\sin{\\left(7 t \\right)} \\theta\\left(t\\right)}{7}$"
      ],
      "text/plain": [
       "5⋅sin(7⋅t)⋅θ(t)\n",
       "───────────────\n",
       "       7       "
      ]
     },
     "metadata": {},
     "output_type": "display_data"
    }
   ],
   "source": [
    "s, t = sp.symbols('s t')\n",
    "\n",
    "F_s = 5/(s**2 + 49)\n",
    "\n",
    "f_t = sp.inverse_laplace_transform(F_s, s, t)\n",
    "\n",
    "print(\"La función F(s) es:\")\n",
    "display(F_s)\n",
    "print(\"\\nLa transformada inversa f(t) es:\")\n",
    "display(f_t)"
   ]
  },
  {
   "cell_type": "markdown",
   "id": "c52b1201",
   "metadata": {},
   "source": [
    "#### Ejercicio 12"
   ]
  },
  {
   "cell_type": "code",
   "execution_count": 16,
   "id": "78d147ee",
   "metadata": {},
   "outputs": [
    {
     "name": "stdout",
     "output_type": "stream",
     "text": [
      "La función F(s) es:\n"
     ]
    },
    {
     "data": {
      "text/latex": [
       "$\\displaystyle \\frac{6 s + 3}{\\left(s^{2} + 1\\right) \\left(s^{2} + 4\\right)}$"
      ],
      "text/plain": [
       "     6⋅s + 3     \n",
       "─────────────────\n",
       "⎛ 2    ⎞ ⎛ 2    ⎞\n",
       "⎝s  + 1⎠⋅⎝s  + 4⎠"
      ]
     },
     "metadata": {},
     "output_type": "display_data"
    },
    {
     "name": "stdout",
     "output_type": "stream",
     "text": [
      "\n",
      "La transformada inversa f(t) es:\n"
     ]
    },
    {
     "data": {
      "text/latex": [
       "$\\displaystyle \\left(\\sin{\\left(t \\right)} + 2 \\cos{\\left(t \\right)}\\right) \\theta\\left(t\\right) + \\left(- \\frac{\\sin{\\left(2 t \\right)}}{2} - 2 \\cos{\\left(2 t \\right)}\\right) \\theta\\left(t\\right)$"
      ],
      "text/plain": [
       "                           ⎛  sin(2⋅t)             ⎞     \n",
       "(sin(t) + 2⋅cos(t))⋅θ(t) + ⎜- ──────── - 2⋅cos(2⋅t)⎟⋅θ(t)\n",
       "                           ⎝     2                 ⎠     "
      ]
     },
     "metadata": {},
     "output_type": "display_data"
    }
   ],
   "source": [
    "s, t = sp.symbols('s t')\n",
    "\n",
    "F_s = (6*s + 3)/((s**2 + 1)*(s**2 + 4))\n",
    "\n",
    "f_t = sp.inverse_laplace_transform(F_s, s, t)\n",
    "\n",
    "print(\"La función F(s) es:\")\n",
    "display(F_s)\n",
    "print(\"\\nLa transformada inversa f(t) es:\")\n",
    "display(f_t)"
   ]
  },
  {
   "cell_type": "markdown",
   "id": "cced9b79",
   "metadata": {},
   "source": [
    "<img src=\"./media/Inv13.jpg\" width=\"300\" align=\"center\">\n",
    "<img src=\"./media/Inv131.jpg\" width=\"300\" align=\"center\">"
   ]
  },
  {
   "cell_type": "markdown",
   "id": "3788d566",
   "metadata": {},
   "source": [
    "#### Ejercicio 13"
   ]
  },
  {
   "cell_type": "code",
   "execution_count": 17,
   "id": "4cea27e2",
   "metadata": {},
   "outputs": [
    {
     "name": "stdout",
     "output_type": "stream",
     "text": [
      "La función F(s) es:\n"
     ]
    },
    {
     "data": {
      "text/latex": [
       "$\\displaystyle \\frac{5}{\\left(s + 2\\right) \\left(s^{2} + 4\\right)}$"
      ],
      "text/plain": [
       "       5        \n",
       "────────────────\n",
       "        ⎛ 2    ⎞\n",
       "(s + 2)⋅⎝s  + 4⎠"
      ]
     },
     "metadata": {},
     "output_type": "display_data"
    },
    {
     "name": "stdout",
     "output_type": "stream",
     "text": [
      "\n",
      "La transformada inversa f(t) es:\n"
     ]
    },
    {
     "data": {
      "text/latex": [
       "$\\displaystyle 5 \\left(\\frac{\\sin{\\left(2 t \\right)}}{8} - \\frac{\\cos{\\left(2 t \\right)}}{8}\\right) \\theta\\left(t\\right) + \\frac{5 e^{- 2 t} \\theta\\left(t\\right)}{8}$"
      ],
      "text/plain": [
       "                                  -2⋅t     \n",
       "  ⎛sin(2⋅t)   cos(2⋅t)⎞        5⋅ℯ    ⋅θ(t)\n",
       "5⋅⎜──────── - ────────⎟⋅θ(t) + ────────────\n",
       "  ⎝   8          8    ⎠             8      "
      ]
     },
     "metadata": {},
     "output_type": "display_data"
    }
   ],
   "source": [
    "s, t = sp.symbols('s t')\n",
    "\n",
    "F_s = 5/((s**2 + 4)*(s + 2))\n",
    "\n",
    "f_t = sp.inverse_laplace_transform(F_s, s, t)\n",
    "\n",
    "print(\"La función F(s) es:\")\n",
    "display(F_s)\n",
    "print(\"\\nLa transformada inversa f(t) es:\")\n",
    "display(f_t)"
   ]
  }
 ],
 "metadata": {
  "kernelspec": {
   "display_name": "Python 3",
   "language": "python",
   "name": "python3"
  },
  "language_info": {
   "codemirror_mode": {
    "name": "ipython",
    "version": 3
   },
   "file_extension": ".py",
   "mimetype": "text/x-python",
   "name": "python",
   "nbconvert_exporter": "python",
   "pygments_lexer": "ipython3",
   "version": "3.12.6"
  }
 },
 "nbformat": 4,
 "nbformat_minor": 5
}
