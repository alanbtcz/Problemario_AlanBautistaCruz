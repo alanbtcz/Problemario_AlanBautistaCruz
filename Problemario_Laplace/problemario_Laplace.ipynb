{
  "cells": [
    {
      "cell_type": "markdown",
      "metadata": {
        "id": "view-in-github",
        "colab_type": "text"
      },
      "source": [
        "<a href=\"https://colab.research.google.com/github/alanbtcz/Problemario_AlanBautistaCruz/blob/main/Problemario_Laplace/problemario_Laplace.ipynb\" target=\"_parent\"><img src=\"https://colab.research.google.com/assets/colab-badge.svg\" alt=\"Open In Colab\"/></a>"
      ]
    },
    {
      "cell_type": "markdown",
      "id": "14b1f355",
      "metadata": {
        "id": "14b1f355"
      },
      "source": [
        "<img src=\"https://github.com/alanbtcz/Problemario_AlanBautistaCruz/blob/main/Problemario_Laplace/media/itsoeh.png?raw=1\" width=\"300\" align=\"center\">"
      ]
    },
    {
      "cell_type": "markdown",
      "id": "b091ea99",
      "metadata": {
        "id": "b091ea99"
      },
      "source": [
        "# Problemario\n",
        "\n"
      ]
    },
    {
      "cell_type": "markdown",
      "id": "54f47897",
      "metadata": {
        "id": "54f47897"
      },
      "source": [
        "Nombre del alumno: ALAN BAUTISTA CRUZ y MONSERRAT AGUILAR PEREZ\n",
        "\n"
      ]
    },
    {
      "cell_type": "markdown",
      "id": "207446ab",
      "metadata": {
        "id": "207446ab"
      },
      "source": [
        "Asignatura: Matemáticas Aplicadas a Comunicaciones"
      ]
    },
    {
      "cell_type": "markdown",
      "id": "3cf5fa4f",
      "metadata": {
        "id": "3cf5fa4f"
      },
      "source": [
        " Fecha de entrega: 31 / 10 / 2025"
      ]
    },
    {
      "cell_type": "markdown",
      "id": "c54c7349",
      "metadata": {
        "id": "c54c7349"
      },
      "source": [
        "Tema: Transformada de Laplace y Transformada Inversa"
      ]
    },
    {
      "cell_type": "markdown",
      "id": "bf3dbcff",
      "metadata": {
        "id": "bf3dbcff"
      },
      "source": [
        "### Sección I:\n"
      ]
    },
    {
      "cell_type": "markdown",
      "id": "19fb9a69",
      "metadata": {
        "id": "19fb9a69"
      },
      "source": [
        "Instrucciones\n",
        "\n",
        "Resuelva las siguientes ecuaciones diferenciales empleando los métodos revisados en clase:\n",
        "\n",
        "- Transformada de Laplace\n",
        "- Transformada inversa de Laplace"
      ]
    },
    {
      "cell_type": "code",
      "execution_count": null,
      "id": "7658a779",
      "metadata": {
        "id": "7658a779"
      },
      "outputs": [],
      "source": [
        "import matplotlib.pyplot as plt\n",
        "from matplotlib import pyplot\n",
        "import numpy as np\n",
        "import sympy as sp\n",
        "from sympy import sin, cos, sec, csc\n",
        "from sympy import Symbol, Function, Eq, exp\n",
        "from scipy import integrate\n",
        "import matplotlib.image as mpimg"
      ]
    },
    {
      "cell_type": "code",
      "execution_count": null,
      "id": "33d66942",
      "metadata": {
        "id": "33d66942"
      },
      "outputs": [],
      "source": [
        "from PIL import Image\n",
        "from IPython.display import display, Latex\n",
        "import sympy #Added import statement\n",
        "\n",
        "sympy.init_printing(use_latex='mathjax')"
      ]
    },
    {
      "cell_type": "markdown",
      "id": "b1b880bf",
      "metadata": {
        "id": "b1b880bf"
      },
      "source": [
        "# Evidencia de revición"
      ]
    },
    {
      "cell_type": "markdown",
      "id": "d9559054",
      "metadata": {
        "id": "d9559054"
      },
      "source": [
        "<img src=\"https://github.com/alanbtcz/Problemario_AlanBautistaCruz/blob/main/Problemario_Laplace/media/Revicion1.jpg?raw=1\" width=\"300\" align=\"center\">\n",
        "\n",
        "<img src=\"https://github.com/alanbtcz/Problemario_AlanBautistaCruz/blob/main/Problemario_Laplace/media/Revicion1.jpg?raw=1\" width=\"300\" align=\"center\">"
      ]
    },
    {
      "cell_type": "markdown",
      "id": "57e918fb",
      "metadata": {
        "id": "57e918fb"
      },
      "source": [
        "#### Ejercicio 1"
      ]
    },
    {
      "cell_type": "markdown",
      "id": "30f27ecb",
      "metadata": {
        "id": "30f27ecb"
      },
      "source": [
        "<img src=\"https://github.com/alanbtcz/Problemario_AlanBautistaCruz/blob/main/Problemario_Laplace/media/Laplace1.jpg?raw=1\" width=\"300\" align=\"center\">"
      ]
    },
    {
      "cell_type": "code",
      "execution_count": null,
      "id": "83080869",
      "metadata": {
        "id": "83080869",
        "outputId": "ad52fd52-984a-42d0-8ffb-37c761e8d186"
      },
      "outputs": [
        {
          "name": "stdout",
          "output_type": "stream",
          "text": [
            "La función f(t) es:\n"
          ]
        },
        {
          "data": {
            "text/latex": [
              "$\\displaystyle k$"
            ],
            "text/plain": [
              "k"
            ]
          },
          "metadata": {},
          "output_type": "display_data"
        },
        {
          "name": "stdout",
          "output_type": "stream",
          "text": [
            "\n",
            "La transformada de Laplace F(s) es:\n"
          ]
        },
        {
          "data": {
            "text/latex": [
              "$\\displaystyle \\frac{k}{s}$"
            ],
            "text/plain": [
              "k\n",
              "─\n",
              "s"
            ]
          },
          "metadata": {},
          "output_type": "display_data"
        }
      ],
      "source": [
        "t, s = sp.symbols('t s')\n",
        "k = sp.symbols('k')\n",
        "\n",
        "f_t = k\n",
        "\n",
        "laplace_f = sp.laplace_transform(f_t, t, s)\n",
        "\n",
        "print(\"La función f(t) es:\")\n",
        "display(f_t)\n",
        "print(\"\\nLa transformada de Laplace F(s) es:\")\n",
        "display(laplace_f[0])"
      ]
    },
    {
      "cell_type": "markdown",
      "id": "ae56b126",
      "metadata": {
        "id": "ae56b126"
      },
      "source": [
        "<img src=\"https://github.com/alanbtcz/Problemario_AlanBautistaCruz/blob/main/Problemario_Laplace/media/Laplace2-3.jpg?raw=1\" width=\"300\" align=\"center\">"
      ]
    },
    {
      "cell_type": "markdown",
      "id": "0302c3a0",
      "metadata": {
        "id": "0302c3a0"
      },
      "source": [
        "#### Ejercicio 2"
      ]
    },
    {
      "cell_type": "code",
      "execution_count": null,
      "id": "f0c27f52",
      "metadata": {
        "id": "f0c27f52",
        "outputId": "a64ac884-4679-4df3-fa4b-9aab61108d79"
      },
      "outputs": [
        {
          "name": "stdout",
          "output_type": "stream",
          "text": [
            "La función f(t) es:\n"
          ]
        },
        {
          "data": {
            "text/latex": [
              "$\\displaystyle t$"
            ],
            "text/plain": [
              "t"
            ]
          },
          "metadata": {},
          "output_type": "display_data"
        },
        {
          "name": "stdout",
          "output_type": "stream",
          "text": [
            "\n",
            "La transformada de Laplace F(s) es:\n"
          ]
        },
        {
          "data": {
            "text/latex": [
              "$\\displaystyle \\frac{1}{s^{2}}$"
            ],
            "text/plain": [
              "1 \n",
              "──\n",
              " 2\n",
              "s "
            ]
          },
          "metadata": {},
          "output_type": "display_data"
        }
      ],
      "source": [
        "t, s = sp.symbols('t s')\n",
        "\n",
        "f_t = t\n",
        "\n",
        "laplace_f = sp.laplace_transform(f_t, t, s)\n",
        "\n",
        "print(\"La función f(t) es:\")\n",
        "display(f_t)\n",
        "print(\"\\nLa transformada de Laplace F(s) es:\")\n",
        "display(laplace_f[0])"
      ]
    },
    {
      "cell_type": "markdown",
      "id": "3b251b14",
      "metadata": {
        "id": "3b251b14"
      },
      "source": [
        "#### Ejercicio 3"
      ]
    },
    {
      "cell_type": "code",
      "execution_count": null,
      "id": "bacaba13",
      "metadata": {
        "id": "bacaba13",
        "outputId": "a9f11a9c-469c-4695-a278-aad1f49e1269"
      },
      "outputs": [
        {
          "name": "stdout",
          "output_type": "stream",
          "text": [
            "La función f(t) es:\n"
          ]
        },
        {
          "data": {
            "text/latex": [
              "$\\displaystyle e^{- 3 t}$"
            ],
            "text/plain": [
              " -3⋅t\n",
              "ℯ    "
            ]
          },
          "metadata": {},
          "output_type": "display_data"
        },
        {
          "name": "stdout",
          "output_type": "stream",
          "text": [
            "\n",
            "La transformada de Laplace F(s) es:\n"
          ]
        },
        {
          "data": {
            "text/latex": [
              "$\\displaystyle \\frac{1}{s + 3}$"
            ],
            "text/plain": [
              "  1  \n",
              "─────\n",
              "s + 3"
            ]
          },
          "metadata": {},
          "output_type": "display_data"
        }
      ],
      "source": [
        "t, s = sp.symbols('t s')\n",
        "\n",
        "f_t = sp.exp(-3*t)\n",
        "\n",
        "laplace_f = sp.laplace_transform(f_t, t, s)\n",
        "\n",
        "print(\"La función f(t) es:\")\n",
        "display(f_t)\n",
        "print(\"\\nLa transformada de Laplace F(s) es:\")\n",
        "display(laplace_f[0])"
      ]
    },
    {
      "cell_type": "markdown",
      "id": "121885b3",
      "metadata": {
        "id": "121885b3"
      },
      "source": [
        "<img src=\"https://github.com/alanbtcz/Problemario_AlanBautistaCruz/blob/main/Problemario_Laplace/media/Laplace4-5.jpg?raw=1\" width=\"300\" align=\"center\">"
      ]
    },
    {
      "cell_type": "markdown",
      "id": "100dea66",
      "metadata": {
        "id": "100dea66"
      },
      "source": [
        "#### Ejercicio 4"
      ]
    },
    {
      "cell_type": "code",
      "execution_count": null,
      "id": "61782e21",
      "metadata": {
        "id": "61782e21",
        "outputId": "6d9c32aa-e83a-402a-cc06-a8e088bf5f24"
      },
      "outputs": [
        {
          "name": "stdout",
          "output_type": "stream",
          "text": [
            "La función f(t) es:\n"
          ]
        },
        {
          "data": {
            "text/latex": [
              "$\\displaystyle e^{\\alpha t}$"
            ],
            "text/plain": [
              " α⋅t\n",
              "ℯ   "
            ]
          },
          "metadata": {},
          "output_type": "display_data"
        },
        {
          "name": "stdout",
          "output_type": "stream",
          "text": [
            "\n",
            "La transformada de Laplace F(s) es:\n"
          ]
        },
        {
          "data": {
            "text/latex": [
              "$\\displaystyle \\frac{1}{- \\alpha + s}$"
            ],
            "text/plain": [
              "  1   \n",
              "──────\n",
              "-α + s"
            ]
          },
          "metadata": {},
          "output_type": "display_data"
        }
      ],
      "source": [
        "t, s, alpha = sp.symbols('t s alpha')\n",
        "\n",
        "f_t = sp.exp(alpha*t)\n",
        "\n",
        "laplace_f = sp.laplace_transform(f_t, t, s)\n",
        "\n",
        "print(\"La función f(t) es:\")\n",
        "display(f_t)\n",
        "print(\"\\nLa transformada de Laplace F(s) es:\")\n",
        "display(laplace_f[0])"
      ]
    },
    {
      "cell_type": "markdown",
      "id": "cbcde561",
      "metadata": {
        "id": "cbcde561"
      },
      "source": [
        "#### Ejercicio 5"
      ]
    },
    {
      "cell_type": "code",
      "execution_count": null,
      "id": "1a904c58",
      "metadata": {
        "id": "1a904c58",
        "outputId": "e4e43b84-3caa-44d0-a789-8f052b71b496"
      },
      "outputs": [
        {
          "name": "stdout",
          "output_type": "stream",
          "text": [
            "La función f(t) es:\n"
          ]
        },
        {
          "data": {
            "text/latex": [
              "$\\displaystyle \\sin{\\left(2 t \\right)}$"
            ],
            "text/plain": [
              "sin(2⋅t)"
            ]
          },
          "metadata": {},
          "output_type": "display_data"
        },
        {
          "name": "stdout",
          "output_type": "stream",
          "text": [
            "\n",
            "La transformada de Laplace F(s) es:\n"
          ]
        },
        {
          "data": {
            "text/latex": [
              "$\\displaystyle \\frac{2}{s^{2} + 4}$"
            ],
            "text/plain": [
              "  2   \n",
              "──────\n",
              " 2    \n",
              "s  + 4"
            ]
          },
          "metadata": {},
          "output_type": "display_data"
        }
      ],
      "source": [
        "t, s = sp.symbols('t s')\n",
        "\n",
        "f_t = sp.sin(2*t)\n",
        "\n",
        "laplace_f = sp.laplace_transform(f_t, t, s)\n",
        "\n",
        "print(\"La función f(t) es:\")\n",
        "display(f_t)\n",
        "print(\"\\nLa transformada de Laplace F(s) es:\")\n",
        "display(laplace_f[0])"
      ]
    },
    {
      "cell_type": "markdown",
      "id": "bcee5594",
      "metadata": {
        "id": "bcee5594"
      },
      "source": [
        "<img src=\"https://github.com/alanbtcz/Problemario_AlanBautistaCruz/blob/main/Problemario_Laplace/media/Laplace6.jpg?raw=1\" width=\"300\" align=\"center\">"
      ]
    },
    {
      "cell_type": "markdown",
      "id": "7b847ba4",
      "metadata": {
        "id": "7b847ba4"
      },
      "source": [
        "#### Ejercicio 6"
      ]
    },
    {
      "cell_type": "code",
      "execution_count": null,
      "id": "0cc00486",
      "metadata": {
        "id": "0cc00486",
        "outputId": "b7d6bcc6-a2f4-4418-cbae-637bf85c0ae9"
      },
      "outputs": [
        {
          "name": "stdout",
          "output_type": "stream",
          "text": [
            "La función f(t) es:\n"
          ]
        },
        {
          "data": {
            "text/latex": [
              "$\\displaystyle 5 t + 1$"
            ],
            "text/plain": [
              "5⋅t + 1"
            ]
          },
          "metadata": {},
          "output_type": "display_data"
        },
        {
          "name": "stdout",
          "output_type": "stream",
          "text": [
            "\n",
            "La transformada de Laplace F(s) es:\n"
          ]
        },
        {
          "data": {
            "text/latex": [
              "$\\displaystyle \\frac{1}{s} + \\frac{5}{s^{2}}$"
            ],
            "text/plain": [
              "1   5 \n",
              "─ + ──\n",
              "s    2\n",
              "    s "
            ]
          },
          "metadata": {},
          "output_type": "display_data"
        }
      ],
      "source": [
        "t, s = sp.symbols('t s')\n",
        "\n",
        "f_t = 1 + 5*t\n",
        "\n",
        "laplace_f = sp.laplace_transform(f_t, t, s)\n",
        "\n",
        "print(\"La función f(t) es:\")\n",
        "display(f_t)\n",
        "print(\"\\nLa transformada de Laplace F(s) es:\")\n",
        "display(laplace_f[0])"
      ]
    },
    {
      "cell_type": "markdown",
      "id": "290e259a",
      "metadata": {
        "id": "290e259a"
      },
      "source": [
        "<img src=\"https://github.com/alanbtcz/Problemario_AlanBautistaCruz/blob/main/Problemario_Laplace/media/Laplace7.jpg?raw=1\" width=\"300\" align=\"center\">"
      ]
    },
    {
      "cell_type": "markdown",
      "id": "239114cc",
      "metadata": {
        "id": "239114cc"
      },
      "source": [
        "#### Ejercicio 7\n"
      ]
    },
    {
      "cell_type": "code",
      "execution_count": null,
      "id": "e7a60581",
      "metadata": {
        "id": "e7a60581",
        "outputId": "4ad8e633-02ff-4588-f45c-9d7205c52bbc"
      },
      "outputs": [
        {
          "name": "stdout",
          "output_type": "stream",
          "text": [
            "La función f(t) es:\n"
          ]
        },
        {
          "data": {
            "text/latex": [
              "$\\displaystyle 5 e^{3 t} - 2 \\sin{\\left(2 t \\right)}$"
            ],
            "text/plain": [
              "   3⋅t             \n",
              "5⋅ℯ    - 2⋅sin(2⋅t)"
            ]
          },
          "metadata": {},
          "output_type": "display_data"
        },
        {
          "name": "stdout",
          "output_type": "stream",
          "text": [
            "\n",
            "La transformada de Laplace F(s) es:\n"
          ]
        },
        {
          "data": {
            "text/latex": [
              "$\\displaystyle - \\frac{4}{s^{2} + 4} + \\frac{5}{s - 3}$"
            ],
            "text/plain": [
              "    4        5  \n",
              "- ────── + ─────\n",
              "   2       s - 3\n",
              "  s  + 4        "
            ]
          },
          "metadata": {},
          "output_type": "display_data"
        }
      ],
      "source": [
        "t, s = sp.symbols('t s')\n",
        "\n",
        "f_t = 5*sp.exp(3*t) - 2*sp.sin(2*t)\n",
        "\n",
        "laplace_f = sp.laplace_transform(f_t, t, s)\n",
        "\n",
        "print(\"La función f(t) es:\")\n",
        "display(f_t)\n",
        "print(\"\\nLa transformada de Laplace F(s) es:\")\n",
        "display(laplace_f[0])"
      ]
    },
    {
      "cell_type": "markdown",
      "id": "799222f9",
      "metadata": {
        "id": "799222f9"
      },
      "source": [
        "<img src=\"https://github.com/alanbtcz/Problemario_AlanBautistaCruz/blob/main/Problemario_Laplace/media/Laplace8.jpg?raw=1\" width=\"300\" align=\"center\">"
      ]
    },
    {
      "cell_type": "markdown",
      "id": "baf11aef",
      "metadata": {
        "id": "baf11aef"
      },
      "source": [
        "#### Ejercicio 8"
      ]
    },
    {
      "cell_type": "code",
      "execution_count": null,
      "id": "0b72cf82",
      "metadata": {
        "id": "0b72cf82",
        "outputId": "300755fe-83d7-4fe7-f93f-fa3ecebcf45b"
      },
      "outputs": [
        {
          "name": "stdout",
          "output_type": "stream",
          "text": [
            "La función f(t) es:\n"
          ]
        },
        {
          "data": {
            "text/latex": [
              "$\\displaystyle t \\cos{\\left(t \\right)}$"
            ],
            "text/plain": [
              "t⋅cos(t)"
            ]
          },
          "metadata": {},
          "output_type": "display_data"
        },
        {
          "name": "stdout",
          "output_type": "stream",
          "text": [
            "\n",
            "La transformada de Laplace F(s) es:\n"
          ]
        },
        {
          "data": {
            "text/latex": [
              "$\\displaystyle \\frac{1}{2 \\left(s + i\\right)^{2}} + \\frac{1}{2 \\left(s - i\\right)^{2}}$"
            ],
            "text/plain": [
              "    1            1     \n",
              "────────── + ──────────\n",
              "         2            2\n",
              "2⋅(s + ⅈ)    2⋅(s - ⅈ) "
            ]
          },
          "metadata": {},
          "output_type": "display_data"
        }
      ],
      "source": [
        "t, s = sp.symbols('t s')\n",
        "\n",
        "f_t = t*sp.cos(t)\n",
        "\n",
        "laplace_f = sp.laplace_transform(f_t, t, s)\n",
        "\n",
        "print(\"La función f(t) es:\")\n",
        "display(f_t)\n",
        "print(\"\\nLa transformada de Laplace F(s) es:\")\n",
        "display(laplace_f[0])"
      ]
    },
    {
      "cell_type": "markdown",
      "id": "0cb7fc08",
      "metadata": {
        "id": "0cb7fc08"
      },
      "source": [
        "<img src=\"https://github.com/alanbtcz/Problemario_AlanBautistaCruz/blob/main/Problemario_Laplace/media/Laplace9.jpg?raw=1\" width=\"300\" align=\"center\">"
      ]
    },
    {
      "cell_type": "markdown",
      "id": "83d8d797",
      "metadata": {
        "id": "83d8d797"
      },
      "source": [
        "#### Ejercicio 9"
      ]
    },
    {
      "cell_type": "code",
      "execution_count": null,
      "id": "d8838d1f",
      "metadata": {
        "id": "d8838d1f",
        "outputId": "c5cd9476-b28c-45b2-f11a-73e9de921d2f"
      },
      "outputs": [
        {
          "name": "stdout",
          "output_type": "stream",
          "text": [
            "La función f(t) es:\n"
          ]
        },
        {
          "data": {
            "text/latex": [
              "$\\displaystyle e^{- t} \\sin{\\left(t \\right)}$"
            ],
            "text/plain": [
              " -t       \n",
              "ℯ  ⋅sin(t)"
            ]
          },
          "metadata": {},
          "output_type": "display_data"
        },
        {
          "name": "stdout",
          "output_type": "stream",
          "text": [
            "\n",
            "La transformada de Laplace F(s) es:\n"
          ]
        },
        {
          "data": {
            "text/latex": [
              "$\\displaystyle \\frac{1}{\\left(s + 1\\right)^{2} + 1}$"
            ],
            "text/plain": [
              "     1      \n",
              "────────────\n",
              "       2    \n",
              "(s + 1)  + 1"
            ]
          },
          "metadata": {},
          "output_type": "display_data"
        }
      ],
      "source": [
        "t, s = sp.symbols('t s')\n",
        "\n",
        "f_t = sp.exp(-t)*sp.sin(t)\n",
        "\n",
        "laplace_f = sp.laplace_transform(f_t, t, s)\n",
        "\n",
        "print(\"La función f(t) es:\")\n",
        "display(f_t)\n",
        "print(\"\\nLa transformada de Laplace F(s) es:\")\n",
        "display(laplace_f[0])"
      ]
    },
    {
      "cell_type": "markdown",
      "id": "35f4dcf8",
      "metadata": {
        "id": "35f4dcf8"
      },
      "source": [
        "<img src=\"https://github.com/alanbtcz/Problemario_AlanBautistaCruz/blob/main/Problemario_Laplace/media/Laplace10.jpg?raw=1\" width=\"300\" align=\"center\">"
      ]
    },
    {
      "cell_type": "markdown",
      "id": "a5ad963d",
      "metadata": {
        "id": "a5ad963d"
      },
      "source": [
        "#### Ejercicio 10"
      ]
    },
    {
      "cell_type": "code",
      "execution_count": null,
      "id": "7fa962cf",
      "metadata": {
        "id": "7fa962cf",
        "outputId": "73591423-5e12-46a0-e66c-2c45707069a9"
      },
      "outputs": [
        {
          "name": "stdout",
          "output_type": "stream",
          "text": [
            "La función f(t) es:\n"
          ]
        },
        {
          "data": {
            "text/latex": [
              "$\\displaystyle \\frac{\\cos{\\left(2 t \\right)}}{2} + \\frac{1}{2}$"
            ],
            "text/plain": [
              "cos(2⋅t)   1\n",
              "──────── + ─\n",
              "   2       2"
            ]
          },
          "metadata": {},
          "output_type": "display_data"
        },
        {
          "name": "stdout",
          "output_type": "stream",
          "text": [
            "\n",
            "La transformada de Laplace F(s) es:\n"
          ]
        },
        {
          "data": {
            "text/latex": [
              "$\\displaystyle \\frac{s}{2 \\left(s^{2} + 4\\right)} + \\frac{1}{2 s}$"
            ],
            "text/plain": [
              "    s         1 \n",
              "────────── + ───\n",
              "  ⎛ 2    ⎞   2⋅s\n",
              "2⋅⎝s  + 4⎠      "
            ]
          },
          "metadata": {},
          "output_type": "display_data"
        }
      ],
      "source": [
        "t, s = sp.symbols('t s')\n",
        "\n",
        "f_t = (1 + sp.cos(2*t)) / 2\n",
        "\n",
        "laplace_f = sp.laplace_transform(f_t, t, s)\n",
        "\n",
        "print(\"La función f(t) es:\")\n",
        "display(f_t)\n",
        "print(\"\\nLa transformada de Laplace F(s) es:\")\n",
        "display(laplace_f[0])"
      ]
    },
    {
      "cell_type": "markdown",
      "id": "1f27805b",
      "metadata": {
        "id": "1f27805b"
      },
      "source": [
        "<img src=\"https://github.com/alanbtcz/Problemario_AlanBautistaCruz/blob/main/Problemario_Laplace/media/Laplace11-12.jpg?raw=1\" width=\"300\" align=\"center\">"
      ]
    },
    {
      "cell_type": "markdown",
      "id": "01448c3c",
      "metadata": {
        "id": "01448c3c"
      },
      "source": [
        "#### Ejercicio 11"
      ]
    },
    {
      "cell_type": "code",
      "execution_count": null,
      "id": "d65d255d",
      "metadata": {
        "id": "d65d255d",
        "outputId": "1c946521-6a5c-4290-d935-dbf88f7bc16a"
      },
      "outputs": [
        {
          "name": "stdout",
          "output_type": "stream",
          "text": [
            "La función f(t) es:\n"
          ]
        },
        {
          "data": {
            "text/latex": [
              "$\\displaystyle \\cos^{2}{\\left(t \\right)}$"
            ],
            "text/plain": [
              "   2   \n",
              "cos (t)"
            ]
          },
          "metadata": {},
          "output_type": "display_data"
        },
        {
          "name": "stdout",
          "output_type": "stream",
          "text": [
            "\n",
            "La transformada de Laplace F(s) es:\n"
          ]
        },
        {
          "data": {
            "text/latex": [
              "$\\displaystyle \\frac{s^{2} + 2}{s \\left(s^{2} + 4\\right)}$"
            ],
            "text/plain": [
              "   2      \n",
              "  s  + 2  \n",
              "──────────\n",
              "  ⎛ 2    ⎞\n",
              "s⋅⎝s  + 4⎠"
            ]
          },
          "metadata": {},
          "output_type": "display_data"
        }
      ],
      "source": [
        "t, s = sp.symbols('t s')\n",
        "\n",
        "f_t = sp.cos(t)**2\n",
        "\n",
        "laplace_f = sp.laplace_transform(f_t, t, s)\n",
        "\n",
        "print(\"La función f(t) es:\")\n",
        "display(f_t)\n",
        "print(\"\\nLa transformada de Laplace F(s) es:\")\n",
        "display(laplace_f[0])"
      ]
    },
    {
      "cell_type": "markdown",
      "id": "85580177",
      "metadata": {
        "id": "85580177"
      },
      "source": [
        "#### Ejercicio 12"
      ]
    },
    {
      "cell_type": "code",
      "execution_count": null,
      "id": "39b8cf16",
      "metadata": {
        "id": "39b8cf16",
        "outputId": "b348187b-0bf2-4800-9923-7529ba64a855"
      },
      "outputs": [
        {
          "name": "stdout",
          "output_type": "stream",
          "text": [
            "La función f(t) es:\n"
          ]
        },
        {
          "data": {
            "text/latex": [
              "$\\displaystyle t^{2} e^{\\alpha t}$"
            ],
            "text/plain": [
              " 2  α⋅t\n",
              "t ⋅ℯ   "
            ]
          },
          "metadata": {},
          "output_type": "display_data"
        },
        {
          "name": "stdout",
          "output_type": "stream",
          "text": [
            "\n",
            "La transformada de Laplace F(s) es:\n"
          ]
        },
        {
          "data": {
            "text/latex": [
              "$\\displaystyle \\frac{2}{\\left(- \\alpha + s\\right)^{3}}$"
            ],
            "text/plain": [
              "    2    \n",
              "─────────\n",
              "        3\n",
              "(-α + s) "
            ]
          },
          "metadata": {},
          "output_type": "display_data"
        }
      ],
      "source": [
        "t, s, alpha = sp.symbols('t s alpha')\n",
        "\n",
        "f_t = t**2 * sp.exp(alpha*t)\n",
        "\n",
        "laplace_f = sp.laplace_transform(f_t, t, s)\n",
        "\n",
        "print(\"La función f(t) es:\")\n",
        "display(f_t)\n",
        "print(\"\\nLa transformada de Laplace F(s) es:\")\n",
        "display(laplace_f[0])"
      ]
    },
    {
      "cell_type": "markdown",
      "id": "e533a39f",
      "metadata": {
        "id": "e533a39f"
      },
      "source": [
        "# La inversa de Laplace"
      ]
    },
    {
      "cell_type": "markdown",
      "id": "22379c89",
      "metadata": {
        "id": "22379c89"
      },
      "source": [
        "<img src=\"https://github.com/alanbtcz/Problemario_AlanBautistaCruz/blob/main/Problemario_Laplace/media/Inv1-3.jpg?raw=1\" width=\"300\" align=\"center\">"
      ]
    },
    {
      "cell_type": "markdown",
      "id": "627fe404",
      "metadata": {
        "id": "627fe404"
      },
      "source": [
        "#### Ejercicio 1"
      ]
    },
    {
      "cell_type": "code",
      "execution_count": null,
      "id": "188f2f83",
      "metadata": {
        "id": "188f2f83",
        "outputId": "af441d9c-48cf-48c4-9d80-2a40bccf2aac"
      },
      "outputs": [
        {
          "name": "stdout",
          "output_type": "stream",
          "text": [
            "La función F(s) es:\n"
          ]
        },
        {
          "data": {
            "text/latex": [
              "$\\displaystyle \\frac{1}{s^{5}}$"
            ],
            "text/plain": [
              "1 \n",
              "──\n",
              " 5\n",
              "s "
            ]
          },
          "metadata": {},
          "output_type": "display_data"
        },
        {
          "name": "stdout",
          "output_type": "stream",
          "text": [
            "\n",
            "La transformada inversa f(t) es:\n"
          ]
        },
        {
          "data": {
            "text/latex": [
              "$\\displaystyle \\frac{t^{4} \\theta\\left(t\\right)}{24}$"
            ],
            "text/plain": [
              " 4     \n",
              "t ⋅θ(t)\n",
              "───────\n",
              "  24   "
            ]
          },
          "metadata": {},
          "output_type": "display_data"
        }
      ],
      "source": [
        "s, t = sp.symbols('s t')\n",
        "\n",
        "F_s = 1/s**5\n",
        "\n",
        "f_t = sp.inverse_laplace_transform(F_s, s, t)\n",
        "\n",
        "print(\"La función F(s) es:\")\n",
        "display(F_s)\n",
        "print(\"\\nLa transformada inversa f(t) es:\")\n",
        "display(f_t)"
      ]
    },
    {
      "cell_type": "markdown",
      "id": "eec71a83",
      "metadata": {
        "id": "eec71a83"
      },
      "source": [
        "#### Ejercicio 2\n"
      ]
    },
    {
      "cell_type": "code",
      "execution_count": null,
      "id": "7d07cab2",
      "metadata": {
        "id": "7d07cab2",
        "outputId": "fdcda00d-fad5-42cf-a363-9ec3618c1d68"
      },
      "outputs": [
        {
          "name": "stdout",
          "output_type": "stream",
          "text": [
            "La función F(s) es:\n"
          ]
        },
        {
          "data": {
            "text/latex": [
              "$\\displaystyle \\frac{1}{s^{2} + 7}$"
            ],
            "text/plain": [
              "  1   \n",
              "──────\n",
              " 2    \n",
              "s  + 7"
            ]
          },
          "metadata": {},
          "output_type": "display_data"
        },
        {
          "name": "stdout",
          "output_type": "stream",
          "text": [
            "\n",
            "La transformada inversa f(t) es:\n"
          ]
        },
        {
          "data": {
            "text/latex": [
              "$\\displaystyle \\frac{\\sqrt{7} \\sin{\\left(\\sqrt{7} t \\right)} \\theta\\left(t\\right)}{7}$"
            ],
            "text/plain": [
              "√7⋅sin(√7⋅t)⋅θ(t)\n",
              "─────────────────\n",
              "        7        "
            ]
          },
          "metadata": {},
          "output_type": "display_data"
        }
      ],
      "source": [
        "s, t = sp.symbols('s t')\n",
        "\n",
        "F_s = 1/(s**2 + 7)\n",
        "\n",
        "f_t = sp.inverse_laplace_transform(F_s, s, t)\n",
        "\n",
        "print(\"La función F(s) es:\")\n",
        "display(F_s)\n",
        "print(\"\\nLa transformada inversa f(t) es:\")\n",
        "display(f_t)"
      ]
    },
    {
      "cell_type": "markdown",
      "id": "22363166",
      "metadata": {
        "id": "22363166"
      },
      "source": [
        "#### Ejercicio 3"
      ]
    },
    {
      "cell_type": "code",
      "execution_count": null,
      "id": "568a6c83",
      "metadata": {
        "id": "568a6c83",
        "outputId": "e5a69a32-6455-43d2-d35c-e1c055d5f27e"
      },
      "outputs": [
        {
          "name": "stdout",
          "output_type": "stream",
          "text": [
            "La función F(s) es:\n"
          ]
        },
        {
          "data": {
            "text/latex": [
              "$\\displaystyle \\frac{1}{s^{4}}$"
            ],
            "text/plain": [
              "1 \n",
              "──\n",
              " 4\n",
              "s "
            ]
          },
          "metadata": {},
          "output_type": "display_data"
        },
        {
          "name": "stdout",
          "output_type": "stream",
          "text": [
            "\n",
            "La transformada inversa f(t) es:\n"
          ]
        },
        {
          "data": {
            "text/latex": [
              "$\\displaystyle \\frac{t^{3} \\theta\\left(t\\right)}{6}$"
            ],
            "text/plain": [
              " 3     \n",
              "t ⋅θ(t)\n",
              "───────\n",
              "   6   "
            ]
          },
          "metadata": {},
          "output_type": "display_data"
        }
      ],
      "source": [
        "s, t = sp.symbols('s t')\n",
        "\n",
        "F_s = 1/s**4\n",
        "\n",
        "f_t = sp.inverse_laplace_transform(F_s, s, t)\n",
        "\n",
        "print(\"La función F(s) es:\")\n",
        "display(F_s)\n",
        "print(\"\\nLa transformada inversa f(t) es:\")\n",
        "display(f_t)"
      ]
    },
    {
      "cell_type": "markdown",
      "id": "7be0551f",
      "metadata": {
        "id": "7be0551f"
      },
      "source": [
        "<img src=\"https://github.com/alanbtcz/Problemario_AlanBautistaCruz/blob/main/Problemario_Laplace/media/Inv4-5.jpg?raw=1\" width=\"300\" align=\"center\">"
      ]
    },
    {
      "cell_type": "markdown",
      "id": "ae17b259",
      "metadata": {
        "id": "ae17b259"
      },
      "source": [
        "#### Ejercicio 4"
      ]
    },
    {
      "cell_type": "code",
      "execution_count": null,
      "id": "572d3722",
      "metadata": {
        "id": "572d3722",
        "outputId": "8e5207ed-b555-4edd-a591-18df9691dbc8"
      },
      "outputs": [
        {
          "name": "stdout",
          "output_type": "stream",
          "text": [
            "La función F(s) es:\n"
          ]
        },
        {
          "data": {
            "text/latex": [
              "$\\displaystyle \\left(\\frac{2}{s} - \\frac{1}{s^{3}}\\right)^{2}$"
            ],
            "text/plain": [
              "        2\n",
              "⎛2   1 ⎞ \n",
              "⎜─ - ──⎟ \n",
              "⎜s    3⎟ \n",
              "⎝    s ⎠ "
            ]
          },
          "metadata": {},
          "output_type": "display_data"
        },
        {
          "name": "stdout",
          "output_type": "stream",
          "text": [
            "\n",
            "La transformada inversa f(t) es:\n"
          ]
        },
        {
          "data": {
            "text/latex": [
              "$\\displaystyle \\frac{t^{5} \\theta\\left(t\\right)}{120} - \\frac{2 t^{3} \\theta\\left(t\\right)}{3} + 4 t \\theta\\left(t\\right)$"
            ],
            "text/plain": [
              " 5           3                \n",
              "t ⋅θ(t)   2⋅t ⋅θ(t)           \n",
              "─────── - ───────── + 4⋅t⋅θ(t)\n",
              "  120         3               "
            ]
          },
          "metadata": {},
          "output_type": "display_data"
        }
      ],
      "source": [
        "s, t = sp.symbols('s t')\n",
        "\n",
        "F_s = (2/s - 1/s**3)**2\n",
        "\n",
        "f_t = sp.inverse_laplace_transform(F_s, s, t)\n",
        "\n",
        "print(\"La función F(s) es:\")\n",
        "display(F_s)\n",
        "print(\"\\nLa transformada inversa f(t) es:\")\n",
        "display(f_t)\n"
      ]
    },
    {
      "cell_type": "markdown",
      "id": "c800aa1f",
      "metadata": {
        "id": "c800aa1f"
      },
      "source": [
        "<img src=\"https://github.com/alanbtcz/Problemario_AlanBautistaCruz/blob/main/Problemario_Laplace/media/Inv5-6.jpg?raw=1\" width=\"300\" align=\"center\">"
      ]
    },
    {
      "cell_type": "markdown",
      "id": "d361cd87",
      "metadata": {
        "id": "d361cd87"
      },
      "source": [
        "#### Ejercicio 5"
      ]
    },
    {
      "cell_type": "code",
      "execution_count": null,
      "id": "829bc95d",
      "metadata": {
        "id": "829bc95d",
        "outputId": "02cc18d9-1e15-4a37-96f5-3a1a15333529"
      },
      "outputs": [
        {
          "name": "stdout",
          "output_type": "stream",
          "text": [
            "La función F(s) es:\n"
          ]
        },
        {
          "data": {
            "text/latex": [
              "$\\displaystyle \\frac{10 s}{s^{2} + 16}$"
            ],
            "text/plain": [
              " 10⋅s  \n",
              "───────\n",
              " 2     \n",
              "s  + 16"
            ]
          },
          "metadata": {},
          "output_type": "display_data"
        },
        {
          "name": "stdout",
          "output_type": "stream",
          "text": [
            "\n",
            "La transformada inversa f(t) es:\n"
          ]
        },
        {
          "data": {
            "text/latex": [
              "$\\displaystyle 10 \\cos{\\left(4 t \\right)} \\theta\\left(t\\right)$"
            ],
            "text/plain": [
              "10⋅cos(4⋅t)⋅θ(t)"
            ]
          },
          "metadata": {},
          "output_type": "display_data"
        }
      ],
      "source": [
        "s, t = sp.symbols('s t')\n",
        "\n",
        "F_s = (10*s)/(s**2 + 16)\n",
        "\n",
        "f_t = sp.inverse_laplace_transform(F_s, s, t)\n",
        "\n",
        "print(\"La función F(s) es:\")\n",
        "display(F_s)\n",
        "print(\"\\nLa transformada inversa f(t) es:\")\n",
        "display(f_t)"
      ]
    },
    {
      "cell_type": "markdown",
      "id": "a547d5f6",
      "metadata": {
        "id": "a547d5f6"
      },
      "source": [
        "#### Ejercicio 6"
      ]
    },
    {
      "cell_type": "code",
      "execution_count": null,
      "id": "66857c5d",
      "metadata": {
        "id": "66857c5d",
        "outputId": "4caeecee-70eb-4b93-9696-e7cc2c0f89a8"
      },
      "outputs": [
        {
          "name": "stdout",
          "output_type": "stream",
          "text": [
            "La función F(s) es:\n"
          ]
        },
        {
          "data": {
            "text/latex": [
              "$\\displaystyle \\frac{s}{s^{2} + 2 s - 3}$"
            ],
            "text/plain": [
              "     s      \n",
              "────────────\n",
              " 2          \n",
              "s  + 2⋅s - 3"
            ]
          },
          "metadata": {},
          "output_type": "display_data"
        },
        {
          "name": "stdout",
          "output_type": "stream",
          "text": [
            "\n",
            "La transformada inversa f(t) es:\n"
          ]
        },
        {
          "data": {
            "text/latex": [
              "$\\displaystyle \\frac{e^{t} \\theta\\left(t\\right)}{4} + \\frac{3 e^{- 3 t} \\theta\\left(t\\right)}{4}$"
            ],
            "text/plain": [
              " t           -3⋅t     \n",
              "ℯ ⋅θ(t)   3⋅ℯ    ⋅θ(t)\n",
              "─────── + ────────────\n",
              "   4           4      "
            ]
          },
          "metadata": {},
          "output_type": "display_data"
        }
      ],
      "source": [
        "s, t = sp.symbols('s t')\n",
        "\n",
        "F_s = s/(s**2 + 2*s - 3)\n",
        "\n",
        "f_t = sp.inverse_laplace_transform(F_s, s, t)\n",
        "\n",
        "print(\"La función F(s) es:\")\n",
        "display(F_s)\n",
        "print(\"\\nLa transformada inversa f(t) es:\")\n",
        "display(f_t)"
      ]
    },
    {
      "cell_type": "markdown",
      "id": "68b40f44",
      "metadata": {
        "id": "68b40f44"
      },
      "source": [
        "<img src=\"https://github.com/alanbtcz/Problemario_AlanBautistaCruz/blob/main/Problemario_Laplace/media/Inv7-8.jpg?raw=1\" width=\"300\" align=\"center\">"
      ]
    },
    {
      "cell_type": "markdown",
      "id": "d26c0c5d",
      "metadata": {
        "id": "d26c0c5d"
      },
      "source": [
        "#### Ejercicio 7"
      ]
    },
    {
      "cell_type": "code",
      "execution_count": null,
      "id": "9f197a4a",
      "metadata": {
        "id": "9f197a4a",
        "outputId": "160673ea-7a8f-482b-fa63-9d3737b4d024"
      },
      "outputs": [
        {
          "name": "stdout",
          "output_type": "stream",
          "text": [
            "La función F(s) es:\n"
          ]
        },
        {
          "data": {
            "text/latex": [
              "$\\displaystyle \\frac{1}{s^{3} + 5 s}$"
            ],
            "text/plain": [
              "   1    \n",
              "────────\n",
              " 3      \n",
              "s  + 5⋅s"
            ]
          },
          "metadata": {},
          "output_type": "display_data"
        },
        {
          "name": "stdout",
          "output_type": "stream",
          "text": [
            "\n",
            "La transformada inversa f(t) es:\n"
          ]
        },
        {
          "data": {
            "text/latex": [
              "$\\displaystyle - \\frac{\\cos{\\left(\\sqrt{5} t \\right)} \\theta\\left(t\\right)}{5} + \\frac{\\theta\\left(t\\right)}{5}$"
            ],
            "text/plain": [
              "  cos(√5⋅t)⋅θ(t)   θ(t)\n",
              "- ────────────── + ────\n",
              "        5           5  "
            ]
          },
          "metadata": {},
          "output_type": "display_data"
        }
      ],
      "source": [
        "s, t = sp.symbols('s t')\n",
        "\n",
        "F_s = 1/(s**3 + 5*s)\n",
        "\n",
        "f_t = sp.inverse_laplace_transform(F_s, s, t)\n",
        "\n",
        "print(\"La función F(s) es:\")\n",
        "display(F_s)\n",
        "print(\"\\nLa transformada inversa f(t) es:\")\n",
        "display(f_t)"
      ]
    },
    {
      "cell_type": "markdown",
      "id": "f449442a",
      "metadata": {
        "id": "f449442a"
      },
      "source": [
        "#### Ejercicio 8"
      ]
    },
    {
      "cell_type": "code",
      "execution_count": null,
      "id": "6f4a305e",
      "metadata": {
        "id": "6f4a305e",
        "outputId": "11096350-0800-4952-a4fd-02ba82dc611f"
      },
      "outputs": [
        {
          "name": "stdout",
          "output_type": "stream",
          "text": [
            "La función F(s) es:\n"
          ]
        },
        {
          "data": {
            "text/latex": [
              "$\\displaystyle \\frac{s + 1}{s^{2} - 4 s}$"
            ],
            "text/plain": [
              " s + 1  \n",
              "────────\n",
              " 2      \n",
              "s  - 4⋅s"
            ]
          },
          "metadata": {},
          "output_type": "display_data"
        },
        {
          "name": "stdout",
          "output_type": "stream",
          "text": [
            "\n",
            "La transformada inversa f(t) es:\n"
          ]
        },
        {
          "data": {
            "text/latex": [
              "$\\displaystyle \\frac{5 e^{4 t} \\theta\\left(t\\right)}{4} - \\frac{\\theta\\left(t\\right)}{4}$"
            ],
            "text/plain": [
              "   4⋅t            \n",
              "5⋅ℯ   ⋅θ(t)   θ(t)\n",
              "─────────── - ────\n",
              "     4         4  "
            ]
          },
          "metadata": {},
          "output_type": "display_data"
        }
      ],
      "source": [
        "s, t = sp.symbols('s t')\n",
        "\n",
        "F_s = (s + 1)/(s**2 - 4*s)\n",
        "\n",
        "f_t = sp.inverse_laplace_transform(F_s, s, t)\n",
        "\n",
        "print(\"La función F(s) es:\")\n",
        "display(F_s)\n",
        "print(\"\\nLa transformada inversa f(t) es:\")\n",
        "display(f_t)"
      ]
    },
    {
      "cell_type": "markdown",
      "id": "00da280b",
      "metadata": {
        "id": "00da280b"
      },
      "source": [
        "<img src=\"https://github.com/alanbtcz/Problemario_AlanBautistaCruz/blob/main/Problemario_Laplace/media/Inv9-10.jpg?raw=1\" width=\"300\" align=\"center\">"
      ]
    },
    {
      "cell_type": "markdown",
      "id": "1983320f",
      "metadata": {
        "id": "1983320f"
      },
      "source": [
        "#### Ejercicio 9"
      ]
    },
    {
      "cell_type": "code",
      "execution_count": null,
      "id": "bc0fc462",
      "metadata": {
        "id": "bc0fc462",
        "outputId": "0d08a092-9ebc-48c4-be72-9fe805217923"
      },
      "outputs": [
        {
          "name": "stdout",
          "output_type": "stream",
          "text": [
            "La función F(s) es:\n"
          ]
        },
        {
          "data": {
            "text/latex": [
              "$\\displaystyle \\frac{2 s - 3}{s^{2} - 7 s - 8}$"
            ],
            "text/plain": [
              "  2⋅s - 3   \n",
              "────────────\n",
              " 2          \n",
              "s  - 7⋅s - 8"
            ]
          },
          "metadata": {},
          "output_type": "display_data"
        },
        {
          "name": "stdout",
          "output_type": "stream",
          "text": [
            "\n",
            "La transformada inversa f(t) es:\n"
          ]
        },
        {
          "data": {
            "text/latex": [
              "$\\displaystyle \\frac{13 e^{8 t} \\theta\\left(t\\right)}{9} + \\frac{5 e^{- t} \\theta\\left(t\\right)}{9}$"
            ],
            "text/plain": [
              "    8⋅t           -t     \n",
              "13⋅ℯ   ⋅θ(t)   5⋅ℯ  ⋅θ(t)\n",
              "──────────── + ──────────\n",
              "     9             9     "
            ]
          },
          "metadata": {},
          "output_type": "display_data"
        }
      ],
      "source": [
        "s, t = sp.symbols('s t')\n",
        "\n",
        "F_s = (2*s - 3)/(s**2 - 7*s - 8)\n",
        "\n",
        "f_t = sp.inverse_laplace_transform(F_s, s, t)\n",
        "\n",
        "print(\"La función F(s) es:\")\n",
        "display(F_s)\n",
        "print(\"\\nLa transformada inversa f(t) es:\")\n",
        "display(f_t)"
      ]
    },
    {
      "cell_type": "markdown",
      "id": "089327c9",
      "metadata": {
        "id": "089327c9"
      },
      "source": [
        "#### Ejercicio 10"
      ]
    },
    {
      "cell_type": "code",
      "execution_count": null,
      "id": "40e21a22",
      "metadata": {
        "id": "40e21a22",
        "outputId": "cdb76aa8-a5e8-4a3f-ec59-dd93c33420af"
      },
      "outputs": [
        {
          "name": "stdout",
          "output_type": "stream",
          "text": [
            "La función F(s) es:\n"
          ]
        },
        {
          "data": {
            "text/latex": [
              "$\\displaystyle \\frac{4 s}{4 s^{2} + 1}$"
            ],
            "text/plain": [
              "  4⋅s   \n",
              "────────\n",
              "   2    \n",
              "4⋅s  + 1"
            ]
          },
          "metadata": {},
          "output_type": "display_data"
        },
        {
          "name": "stdout",
          "output_type": "stream",
          "text": [
            "\n",
            "La transformada inversa f(t) es:\n"
          ]
        },
        {
          "data": {
            "text/latex": [
              "$\\displaystyle \\cos{\\left(\\frac{t}{2} \\right)} \\theta\\left(t\\right)$"
            ],
            "text/plain": [
              "   ⎛t⎞     \n",
              "cos⎜─⎟⋅θ(t)\n",
              "   ⎝2⎠     "
            ]
          },
          "metadata": {},
          "output_type": "display_data"
        }
      ],
      "source": [
        "s, t = sp.symbols('s t')\n",
        "\n",
        "F_s = (4*s)/(4*s**2 + 1)\n",
        "\n",
        "f_t = sp.inverse_laplace_transform(F_s, s, t)\n",
        "\n",
        "print(\"La función F(s) es:\")\n",
        "display(F_s)\n",
        "print(\"\\nLa transformada inversa f(t) es:\")\n",
        "display(f_t)"
      ]
    },
    {
      "cell_type": "markdown",
      "id": "285e0261",
      "metadata": {
        "id": "285e0261"
      },
      "source": [
        "<img src=\"https://github.com/alanbtcz/Problemario_AlanBautistaCruz/blob/main/Problemario_Laplace/media/Inv11-12.jpg?raw=1\" width=\"300\" align=\"center\">"
      ]
    },
    {
      "cell_type": "markdown",
      "id": "ace5b80f",
      "metadata": {
        "id": "ace5b80f"
      },
      "source": [
        "#### Ejercicio 11"
      ]
    },
    {
      "cell_type": "code",
      "execution_count": null,
      "id": "54498c6a",
      "metadata": {
        "id": "54498c6a",
        "outputId": "e4c25dd2-5cd8-4f0f-a787-ef91bb64cc69"
      },
      "outputs": [
        {
          "name": "stdout",
          "output_type": "stream",
          "text": [
            "La función F(s) es:\n"
          ]
        },
        {
          "data": {
            "text/latex": [
              "$\\displaystyle \\frac{5}{s^{2} + 49}$"
            ],
            "text/plain": [
              "   5   \n",
              "───────\n",
              " 2     \n",
              "s  + 49"
            ]
          },
          "metadata": {},
          "output_type": "display_data"
        },
        {
          "name": "stdout",
          "output_type": "stream",
          "text": [
            "\n",
            "La transformada inversa f(t) es:\n"
          ]
        },
        {
          "data": {
            "text/latex": [
              "$\\displaystyle \\frac{5 \\sin{\\left(7 t \\right)} \\theta\\left(t\\right)}{7}$"
            ],
            "text/plain": [
              "5⋅sin(7⋅t)⋅θ(t)\n",
              "───────────────\n",
              "       7       "
            ]
          },
          "metadata": {},
          "output_type": "display_data"
        }
      ],
      "source": [
        "s, t = sp.symbols('s t')\n",
        "\n",
        "F_s = 5/(s**2 + 49)\n",
        "\n",
        "f_t = sp.inverse_laplace_transform(F_s, s, t)\n",
        "\n",
        "print(\"La función F(s) es:\")\n",
        "display(F_s)\n",
        "print(\"\\nLa transformada inversa f(t) es:\")\n",
        "display(f_t)"
      ]
    },
    {
      "cell_type": "markdown",
      "id": "c52b1201",
      "metadata": {
        "id": "c52b1201"
      },
      "source": [
        "#### Ejercicio 12"
      ]
    },
    {
      "cell_type": "code",
      "execution_count": null,
      "id": "78d147ee",
      "metadata": {
        "id": "78d147ee",
        "outputId": "6320965a-7e6e-4de1-998e-652d2822f509"
      },
      "outputs": [
        {
          "name": "stdout",
          "output_type": "stream",
          "text": [
            "La función F(s) es:\n"
          ]
        },
        {
          "data": {
            "text/latex": [
              "$\\displaystyle \\frac{6 s + 3}{\\left(s^{2} + 1\\right) \\left(s^{2} + 4\\right)}$"
            ],
            "text/plain": [
              "     6⋅s + 3     \n",
              "─────────────────\n",
              "⎛ 2    ⎞ ⎛ 2    ⎞\n",
              "⎝s  + 1⎠⋅⎝s  + 4⎠"
            ]
          },
          "metadata": {},
          "output_type": "display_data"
        },
        {
          "name": "stdout",
          "output_type": "stream",
          "text": [
            "\n",
            "La transformada inversa f(t) es:\n"
          ]
        },
        {
          "data": {
            "text/latex": [
              "$\\displaystyle \\left(\\sin{\\left(t \\right)} + 2 \\cos{\\left(t \\right)}\\right) \\theta\\left(t\\right) + \\left(- \\frac{\\sin{\\left(2 t \\right)}}{2} - 2 \\cos{\\left(2 t \\right)}\\right) \\theta\\left(t\\right)$"
            ],
            "text/plain": [
              "                           ⎛  sin(2⋅t)             ⎞     \n",
              "(sin(t) + 2⋅cos(t))⋅θ(t) + ⎜- ──────── - 2⋅cos(2⋅t)⎟⋅θ(t)\n",
              "                           ⎝     2                 ⎠     "
            ]
          },
          "metadata": {},
          "output_type": "display_data"
        }
      ],
      "source": [
        "s, t = sp.symbols('s t')\n",
        "\n",
        "F_s = (6*s + 3)/((s**2 + 1)*(s**2 + 4))\n",
        "\n",
        "f_t = sp.inverse_laplace_transform(F_s, s, t)\n",
        "\n",
        "print(\"La función F(s) es:\")\n",
        "display(F_s)\n",
        "print(\"\\nLa transformada inversa f(t) es:\")\n",
        "display(f_t)"
      ]
    },
    {
      "cell_type": "markdown",
      "id": "cced9b79",
      "metadata": {
        "id": "cced9b79"
      },
      "source": [
        "<img src=\"https://github.com/alanbtcz/Problemario_AlanBautistaCruz/blob/main/Problemario_Laplace/media/Inv13.jpg?raw=1\" width=\"300\" align=\"center\">\n",
        "<img src=\"https://github.com/alanbtcz/Problemario_AlanBautistaCruz/blob/main/Problemario_Laplace/media/Inv131.jpg?raw=1\" width=\"300\" align=\"center\">"
      ]
    },
    {
      "cell_type": "markdown",
      "id": "3788d566",
      "metadata": {
        "id": "3788d566"
      },
      "source": [
        "#### Ejercicio 13"
      ]
    },
    {
      "cell_type": "code",
      "execution_count": null,
      "id": "4cea27e2",
      "metadata": {
        "id": "4cea27e2",
        "outputId": "87b99a72-fc45-4f1e-c14f-9d70c5ceaf55"
      },
      "outputs": [
        {
          "name": "stdout",
          "output_type": "stream",
          "text": [
            "La función F(s) es:\n"
          ]
        },
        {
          "data": {
            "text/latex": [
              "$\\displaystyle \\frac{5}{\\left(s + 2\\right) \\left(s^{2} + 4\\right)}$"
            ],
            "text/plain": [
              "       5        \n",
              "────────────────\n",
              "        ⎛ 2    ⎞\n",
              "(s + 2)⋅⎝s  + 4⎠"
            ]
          },
          "metadata": {},
          "output_type": "display_data"
        },
        {
          "name": "stdout",
          "output_type": "stream",
          "text": [
            "\n",
            "La transformada inversa f(t) es:\n"
          ]
        },
        {
          "data": {
            "text/latex": [
              "$\\displaystyle 5 \\left(\\frac{\\sin{\\left(2 t \\right)}}{8} - \\frac{\\cos{\\left(2 t \\right)}}{8}\\right) \\theta\\left(t\\right) + \\frac{5 e^{- 2 t} \\theta\\left(t\\right)}{8}$"
            ],
            "text/plain": [
              "                                  -2⋅t     \n",
              "  ⎛sin(2⋅t)   cos(2⋅t)⎞        5⋅ℯ    ⋅θ(t)\n",
              "5⋅⎜──────── - ────────⎟⋅θ(t) + ────────────\n",
              "  ⎝   8          8    ⎠             8      "
            ]
          },
          "metadata": {},
          "output_type": "display_data"
        }
      ],
      "source": [
        "s, t = sp.symbols('s t')\n",
        "\n",
        "F_s = 5/((s**2 + 4)*(s + 2))\n",
        "\n",
        "f_t = sp.inverse_laplace_transform(F_s, s, t)\n",
        "\n",
        "print(\"La función F(s) es:\")\n",
        "display(F_s)\n",
        "print(\"\\nLa transformada inversa f(t) es:\")\n",
        "display(f_t)"
      ]
    }
  ],
  "metadata": {
    "kernelspec": {
      "display_name": "Python 3",
      "language": "python",
      "name": "python3"
    },
    "language_info": {
      "codemirror_mode": {
        "name": "ipython",
        "version": 3
      },
      "file_extension": ".py",
      "mimetype": "text/x-python",
      "name": "python",
      "nbconvert_exporter": "python",
      "pygments_lexer": "ipython3",
      "version": "3.12.6"
    },
    "colab": {
      "provenance": [],
      "include_colab_link": true
    }
  },
  "nbformat": 4,
  "nbformat_minor": 5
}