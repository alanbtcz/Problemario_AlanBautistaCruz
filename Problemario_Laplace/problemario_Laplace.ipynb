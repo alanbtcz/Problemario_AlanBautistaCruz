{
  "cells": [
    {
      "cell_type": "markdown",
      "id": "14b1f355",
      "metadata": {
        "id": "14b1f355"
      },
      "source": [
        "<img src=\"https://github.com/alanbtcz/Problemario_AlanBautistaCruz/blob/main/Problemario_Laplace/media/itsoeh.png?raw=1\" width=\"300\" align=\"center\">"
      ]
    },
    {
      "cell_type": "markdown",
      "id": "b091ea99",
      "metadata": {
        "id": "b091ea99"
      },
      "source": [
        "# Problemario\n",
        "\n"
      ]
    },
    {
      "cell_type": "markdown",
      "id": "54f47897",
      "metadata": {
        "id": "54f47897"
      },
      "source": [
        "Nombre del alumno: ALAN BAUTISTA CRUZ\n",
        "\n"
      ]
    },
    {
      "cell_type": "markdown",
      "id": "207446ab",
      "metadata": {
        "id": "207446ab"
      },
      "source": [
        "Asignatura: Matemáticas Aplicadas a Comunicaciones"
      ]
    },
    {
      "cell_type": "markdown",
      "id": "3cf5fa4f",
      "metadata": {
        "id": "3cf5fa4f"
      },
      "source": [
        "Fecha de entrega:"
      ]
    },
    {
      "cell_type": "markdown",
      "id": "c54c7349",
      "metadata": {
        "id": "c54c7349"
      },
      "source": [
        "Tema:"
      ]
    },
    {
      "cell_type": "markdown",
      "id": "bf3dbcff",
      "metadata": {
        "id": "bf3dbcff"
      },
      "source": [
        "### Sección I:\n"
      ]
    },
    {
      "cell_type": "markdown",
      "id": "19fb9a69",
      "metadata": {
        "id": "19fb9a69"
      },
      "source": [
        "Instrucciones\n",
        "\n",
        "Resuelva las siguientes ecuaciones diferenciales empleando los métodos revisados en clase:\n",
        "\n",
        "- Transformada de Laplace\n",
        "- Transformada inversa de Laplace"
      ]
    },
    {
      "cell_type": "code",
      "execution_count": 1,
      "id": "7658a779",
      "metadata": {
        "id": "7658a779"
      },
      "outputs": [],
      "source": [
        "import matplotlib.pyplot as plt\n",
        "from matplotlib import pyplot\n",
        "import numpy as np\n",
        "import sympy as sp\n",
        "from sympy import sin, cos, sec, csc\n",
        "from sympy import Symbol, Function, Eq, exp\n",
        "from scipy import integrate\n",
        "import matplotlib.image as mpimg"
      ]
    },
    {
      "cell_type": "code",
      "execution_count": 2,
      "id": "33d66942",
      "metadata": {
        "id": "33d66942"
      },
      "outputs": [],
      "source": [
        "from PIL import Image\n",
        "from IPython.display import display, Latex\n",
        "import sympy #Added import statement\n",
        "\n",
        "sympy.init_printing(use_latex='mathjax')"
      ]
    },
    {
      "cell_type": "markdown",
      "id": "b1b880bf",
      "metadata": {
        "id": "b1b880bf"
      },
      "source": [
        "# Evidencia de revición"
      ]
    },
    {
      "cell_type": "markdown",
      "id": "d9559054",
      "metadata": {
        "id": "d9559054"
      },
      "source": [
        "<img src=\"https://github.com/alanbtcz/Problemario_AlanBautistaCruz/blob/main/Problemario_Laplace/media/Revicion1.jpg?raw=1\" width=\"300\" align=\"center\">"
      ]
    },
    {
      "cell_type": "markdown",
      "id": "57e918fb",
      "metadata": {
        "id": "57e918fb"
      },
      "source": [
        "#### Ejercicio 1"
      ]
    },
    {
      "cell_type": "markdown",
      "id": "30f27ecb",
      "metadata": {
        "id": "30f27ecb"
      },
      "source": [
        "<img src=\"https://github.com/alanbtcz/Problemario_AlanBautistaCruz/blob/main/Problemario_Laplace/media/Laplace1.jpg?raw=1\" width=\"300\" align=\"center\">"
      ]
    },
    {
      "cell_type": "code",
      "execution_count": 3,
      "id": "83080869",
      "metadata": {
        "id": "83080869",
        "outputId": "0da7c91e-4bef-42ca-d7c9-11ad1d181db3",
        "colab": {
          "base_uri": "https://localhost:8080/",
          "height": 125
        }
      },
      "outputs": [
        {
          "output_type": "stream",
          "name": "stdout",
          "text": [
            "La función f(t) es:\n"
          ]
        },
        {
          "output_type": "display_data",
          "data": {
            "text/plain": [
              "k"
            ],
            "text/latex": "$\\displaystyle k$"
          },
          "metadata": {}
        },
        {
          "output_type": "stream",
          "name": "stdout",
          "text": [
            "\n",
            "La transformada de Laplace F(s) es:\n"
          ]
        },
        {
          "output_type": "display_data",
          "data": {
            "text/plain": [
              "k\n",
              "─\n",
              "s"
            ],
            "text/latex": "$\\displaystyle \\frac{k}{s}$"
          },
          "metadata": {}
        }
      ],
      "source": [
        "t, s = sp.symbols('t s')\n",
        "k = sp.symbols('k')\n",
        "\n",
        "f_t = k\n",
        "\n",
        "laplace_f = sp.laplace_transform(f_t, t, s)\n",
        "\n",
        "print(\"La función f(t) es:\")\n",
        "display(f_t)\n",
        "print(\"\\nLa transformada de Laplace F(s) es:\")\n",
        "display(laplace_f[0])"
      ]
    },
    {
      "cell_type": "markdown",
      "id": "ae56b126",
      "metadata": {
        "id": "ae56b126"
      },
      "source": [
        "<img src=\"https://github.com/alanbtcz/Problemario_AlanBautistaCruz/blob/main/Problemario_Laplace/media/Laplace2-3.jpg?raw=1\" width=\"300\" align=\"center\">"
      ]
    },
    {
      "cell_type": "markdown",
      "id": "0302c3a0",
      "metadata": {
        "id": "0302c3a0"
      },
      "source": [
        "#### Ejercicio 2"
      ]
    },
    {
      "cell_type": "code",
      "execution_count": 4,
      "id": "f0c27f52",
      "metadata": {
        "id": "f0c27f52",
        "outputId": "2b787b2b-c0fe-4ffd-ef5a-53be380948e6",
        "colab": {
          "base_uri": "https://localhost:8080/",
          "height": 124
        }
      },
      "outputs": [
        {
          "output_type": "stream",
          "name": "stdout",
          "text": [
            "La función f(t) es:\n"
          ]
        },
        {
          "output_type": "display_data",
          "data": {
            "text/plain": [
              "t"
            ],
            "text/latex": "$\\displaystyle t$"
          },
          "metadata": {}
        },
        {
          "output_type": "stream",
          "name": "stdout",
          "text": [
            "\n",
            "La transformada de Laplace F(s) es:\n"
          ]
        },
        {
          "output_type": "display_data",
          "data": {
            "text/plain": [
              "1 \n",
              "──\n",
              " 2\n",
              "s "
            ],
            "text/latex": "$\\displaystyle \\frac{1}{s^{2}}$"
          },
          "metadata": {}
        }
      ],
      "source": [
        "t, s = sp.symbols('t s')\n",
        "\n",
        "f_t = t\n",
        "\n",
        "laplace_f = sp.laplace_transform(f_t, t, s)\n",
        "\n",
        "print(\"La función f(t) es:\")\n",
        "display(f_t)\n",
        "print(\"\\nLa transformada de Laplace F(s) es:\")\n",
        "display(laplace_f[0])"
      ]
    },
    {
      "cell_type": "markdown",
      "id": "3b251b14",
      "metadata": {
        "id": "3b251b14"
      },
      "source": [
        "#### Ejercicio 3"
      ]
    },
    {
      "cell_type": "code",
      "execution_count": 5,
      "id": "bacaba13",
      "metadata": {
        "id": "bacaba13",
        "outputId": "6fd702d8-ffe6-4b81-f058-8260b73d4aca",
        "colab": {
          "base_uri": "https://localhost:8080/",
          "height": 126
        }
      },
      "outputs": [
        {
          "output_type": "stream",
          "name": "stdout",
          "text": [
            "La función f(t) es:\n"
          ]
        },
        {
          "output_type": "display_data",
          "data": {
            "text/plain": [
              " -3⋅t\n",
              "ℯ    "
            ],
            "text/latex": "$\\displaystyle e^{- 3 t}$"
          },
          "metadata": {}
        },
        {
          "output_type": "stream",
          "name": "stdout",
          "text": [
            "\n",
            "La transformada de Laplace F(s) es:\n"
          ]
        },
        {
          "output_type": "display_data",
          "data": {
            "text/plain": [
              "  1  \n",
              "─────\n",
              "s + 3"
            ],
            "text/latex": "$\\displaystyle \\frac{1}{s + 3}$"
          },
          "metadata": {}
        }
      ],
      "source": [
        "t, s = sp.symbols('t s')\n",
        "\n",
        "f_t = sp.exp(-3*t)\n",
        "\n",
        "laplace_f = sp.laplace_transform(f_t, t, s)\n",
        "\n",
        "print(\"La función f(t) es:\")\n",
        "display(f_t)\n",
        "print(\"\\nLa transformada de Laplace F(s) es:\")\n",
        "display(laplace_f[0])"
      ]
    },
    {
      "cell_type": "markdown",
      "id": "121885b3",
      "metadata": {
        "id": "121885b3"
      },
      "source": [
        "<img src=\"https://github.com/alanbtcz/Problemario_AlanBautistaCruz/blob/main/Problemario_Laplace/media/Laplace4-5.jpg?raw=1\" width=\"300\" align=\"center\">"
      ]
    },
    {
      "cell_type": "markdown",
      "id": "100dea66",
      "metadata": {
        "id": "100dea66"
      },
      "source": [
        "#### Ejercicio 4"
      ]
    },
    {
      "cell_type": "code",
      "execution_count": 6,
      "id": "61782e21",
      "metadata": {
        "id": "61782e21",
        "outputId": "7949e44d-e2f8-4bf6-b0f2-5dc73869d8e2",
        "colab": {
          "base_uri": "https://localhost:8080/",
          "height": 126
        }
      },
      "outputs": [
        {
          "output_type": "stream",
          "name": "stdout",
          "text": [
            "La función f(t) es:\n"
          ]
        },
        {
          "output_type": "display_data",
          "data": {
            "text/plain": [
              " α⋅t\n",
              "ℯ   "
            ],
            "text/latex": "$\\displaystyle e^{\\alpha t}$"
          },
          "metadata": {}
        },
        {
          "output_type": "stream",
          "name": "stdout",
          "text": [
            "\n",
            "La transformada de Laplace F(s) es:\n"
          ]
        },
        {
          "output_type": "display_data",
          "data": {
            "text/plain": [
              "  1   \n",
              "──────\n",
              "-α + s"
            ],
            "text/latex": "$\\displaystyle \\frac{1}{- \\alpha + s}$"
          },
          "metadata": {}
        }
      ],
      "source": [
        "t, s, alpha = sp.symbols('t s alpha')\n",
        "\n",
        "f_t = sp.exp(alpha*t)\n",
        "\n",
        "laplace_f = sp.laplace_transform(f_t, t, s)\n",
        "\n",
        "print(\"La función f(t) es:\")\n",
        "display(f_t)\n",
        "print(\"\\nLa transformada de Laplace F(s) es:\")\n",
        "display(laplace_f[0])"
      ]
    },
    {
      "cell_type": "markdown",
      "id": "cbcde561",
      "metadata": {
        "id": "cbcde561"
      },
      "source": [
        "#### Ejercicio 5"
      ]
    },
    {
      "cell_type": "code",
      "execution_count": 7,
      "id": "1a904c58",
      "metadata": {
        "id": "1a904c58",
        "outputId": "aa594f07-4625-461f-a7e2-659c23343ea7",
        "colab": {
          "base_uri": "https://localhost:8080/",
          "height": 126
        }
      },
      "outputs": [
        {
          "output_type": "stream",
          "name": "stdout",
          "text": [
            "La función f(t) es:\n"
          ]
        },
        {
          "output_type": "display_data",
          "data": {
            "text/plain": [
              "sin(2⋅t)"
            ],
            "text/latex": "$\\displaystyle \\sin{\\left(2 t \\right)}$"
          },
          "metadata": {}
        },
        {
          "output_type": "stream",
          "name": "stdout",
          "text": [
            "\n",
            "La transformada de Laplace F(s) es:\n"
          ]
        },
        {
          "output_type": "display_data",
          "data": {
            "text/plain": [
              "  2   \n",
              "──────\n",
              " 2    \n",
              "s  + 4"
            ],
            "text/latex": "$\\displaystyle \\frac{2}{s^{2} + 4}$"
          },
          "metadata": {}
        }
      ],
      "source": [
        "t, s = sp.symbols('t s')\n",
        "\n",
        "f_t = sp.sin(2*t)\n",
        "\n",
        "laplace_f = sp.laplace_transform(f_t, t, s)\n",
        "\n",
        "print(\"La función f(t) es:\")\n",
        "display(f_t)\n",
        "print(\"\\nLa transformada de Laplace F(s) es:\")\n",
        "display(laplace_f[0])"
      ]
    },
    {
      "cell_type": "markdown",
      "id": "bcee5594",
      "metadata": {
        "id": "bcee5594"
      },
      "source": [
        "<img src=\"https://github.com/alanbtcz/Problemario_AlanBautistaCruz/blob/main/Problemario_Laplace/media/Laplace6.jpg?raw=1\" width=\"300\" align=\"center\">"
      ]
    },
    {
      "cell_type": "markdown",
      "id": "7b847ba4",
      "metadata": {
        "id": "7b847ba4"
      },
      "source": [
        "#### Ejercicio 6"
      ]
    },
    {
      "cell_type": "code",
      "execution_count": 8,
      "id": "0cc00486",
      "metadata": {
        "id": "0cc00486",
        "outputId": "4ae298b6-b73d-47d1-c1be-82a4a4b6329b",
        "colab": {
          "base_uri": "https://localhost:8080/",
          "height": 124
        }
      },
      "outputs": [
        {
          "output_type": "stream",
          "name": "stdout",
          "text": [
            "La función f(t) es:\n"
          ]
        },
        {
          "output_type": "display_data",
          "data": {
            "text/plain": [
              "5⋅t + 1"
            ],
            "text/latex": "$\\displaystyle 5 t + 1$"
          },
          "metadata": {}
        },
        {
          "output_type": "stream",
          "name": "stdout",
          "text": [
            "\n",
            "La transformada de Laplace F(s) es:\n"
          ]
        },
        {
          "output_type": "display_data",
          "data": {
            "text/plain": [
              "1   5 \n",
              "─ + ──\n",
              "s    2\n",
              "    s "
            ],
            "text/latex": "$\\displaystyle \\frac{1}{s} + \\frac{5}{s^{2}}$"
          },
          "metadata": {}
        }
      ],
      "source": [
        "t, s = sp.symbols('t s')\n",
        "\n",
        "f_t = 1 + 5*t\n",
        "\n",
        "laplace_f = sp.laplace_transform(f_t, t, s)\n",
        "\n",
        "print(\"La función f(t) es:\")\n",
        "display(f_t)\n",
        "print(\"\\nLa transformada de Laplace F(s) es:\")\n",
        "display(laplace_f[0])"
      ]
    },
    {
      "cell_type": "markdown",
      "id": "290e259a",
      "metadata": {
        "id": "290e259a"
      },
      "source": [
        "<img src=\"https://github.com/alanbtcz/Problemario_AlanBautistaCruz/blob/main/Problemario_Laplace/media/Laplace7.jpg?raw=1\" width=\"300\" align=\"center\">"
      ]
    },
    {
      "cell_type": "markdown",
      "id": "239114cc",
      "metadata": {
        "id": "239114cc"
      },
      "source": [
        "#### Ejercicio 7\n"
      ]
    },
    {
      "cell_type": "code",
      "execution_count": 9,
      "id": "e7a60581",
      "metadata": {
        "id": "e7a60581",
        "outputId": "57eef549-4f47-4211-fc85-437486b16443",
        "colab": {
          "base_uri": "https://localhost:8080/",
          "height": 126
        }
      },
      "outputs": [
        {
          "output_type": "stream",
          "name": "stdout",
          "text": [
            "La función f(t) es:\n"
          ]
        },
        {
          "output_type": "display_data",
          "data": {
            "text/plain": [
              "   3⋅t             \n",
              "5⋅ℯ    - 2⋅sin(2⋅t)"
            ],
            "text/latex": "$\\displaystyle 5 e^{3 t} - 2 \\sin{\\left(2 t \\right)}$"
          },
          "metadata": {}
        },
        {
          "output_type": "stream",
          "name": "stdout",
          "text": [
            "\n",
            "La transformada de Laplace F(s) es:\n"
          ]
        },
        {
          "output_type": "display_data",
          "data": {
            "text/plain": [
              "    4        5  \n",
              "- ────── + ─────\n",
              "   2       s - 3\n",
              "  s  + 4        "
            ],
            "text/latex": "$\\displaystyle - \\frac{4}{s^{2} + 4} + \\frac{5}{s - 3}$"
          },
          "metadata": {}
        }
      ],
      "source": [
        "t, s = sp.symbols('t s')\n",
        "\n",
        "f_t = 5*sp.exp(3*t) - 2*sp.sin(2*t)\n",
        "\n",
        "laplace_f = sp.laplace_transform(f_t, t, s)\n",
        "\n",
        "print(\"La función f(t) es:\")\n",
        "display(f_t)\n",
        "print(\"\\nLa transformada de Laplace F(s) es:\")\n",
        "display(laplace_f[0])"
      ]
    },
    {
      "cell_type": "markdown",
      "id": "799222f9",
      "metadata": {
        "id": "799222f9"
      },
      "source": [
        "<img src=\"https://github.com/alanbtcz/Problemario_AlanBautistaCruz/blob/main/Problemario_Laplace/media/Laplace8.jpg?raw=1\" width=\"300\" align=\"center\">"
      ]
    },
    {
      "cell_type": "markdown",
      "id": "baf11aef",
      "metadata": {
        "id": "baf11aef"
      },
      "source": [
        "#### Ejercicio 8"
      ]
    },
    {
      "cell_type": "code",
      "execution_count": 10,
      "id": "0b72cf82",
      "metadata": {
        "id": "0b72cf82",
        "outputId": "5af6488c-879b-49df-c425-c32bb0cf5141",
        "colab": {
          "base_uri": "https://localhost:8080/",
          "height": 131
        }
      },
      "outputs": [
        {
          "output_type": "stream",
          "name": "stdout",
          "text": [
            "La función f(t) es:\n"
          ]
        },
        {
          "output_type": "display_data",
          "data": {
            "text/plain": [
              "t⋅cos(t)"
            ],
            "text/latex": "$\\displaystyle t \\cos{\\left(t \\right)}$"
          },
          "metadata": {}
        },
        {
          "output_type": "stream",
          "name": "stdout",
          "text": [
            "\n",
            "La transformada de Laplace F(s) es:\n"
          ]
        },
        {
          "output_type": "display_data",
          "data": {
            "text/plain": [
              "    1            1     \n",
              "────────── + ──────────\n",
              "         2            2\n",
              "2⋅(s + ⅈ)    2⋅(s - ⅈ) "
            ],
            "text/latex": "$\\displaystyle \\frac{1}{2 \\left(s + i\\right)^{2}} + \\frac{1}{2 \\left(s - i\\right)^{2}}$"
          },
          "metadata": {}
        }
      ],
      "source": [
        "t, s = sp.symbols('t s')\n",
        "\n",
        "f_t = t*sp.cos(t)\n",
        "\n",
        "laplace_f = sp.laplace_transform(f_t, t, s)\n",
        "\n",
        "print(\"La función f(t) es:\")\n",
        "display(f_t)\n",
        "print(\"\\nLa transformada de Laplace F(s) es:\")\n",
        "display(laplace_f[0])"
      ]
    },
    {
      "cell_type": "markdown",
      "id": "0cb7fc08",
      "metadata": {
        "id": "0cb7fc08"
      },
      "source": [
        "<img src=\"https://github.com/alanbtcz/Problemario_AlanBautistaCruz/blob/main/Problemario_Laplace/media/Laplace9.jpg?raw=1\" width=\"300\" align=\"center\">"
      ]
    },
    {
      "cell_type": "markdown",
      "id": "83d8d797",
      "metadata": {
        "id": "83d8d797"
      },
      "source": [
        "#### Ejercicio 9"
      ]
    },
    {
      "cell_type": "code",
      "execution_count": 11,
      "id": "d8838d1f",
      "metadata": {
        "id": "d8838d1f",
        "outputId": "877288a5-7a0b-4fb3-fb16-8ccc45dcda9e",
        "colab": {
          "base_uri": "https://localhost:8080/",
          "height": 131
        }
      },
      "outputs": [
        {
          "output_type": "stream",
          "name": "stdout",
          "text": [
            "La función f(t) es:\n"
          ]
        },
        {
          "output_type": "display_data",
          "data": {
            "text/plain": [
              " -t       \n",
              "ℯ  ⋅sin(t)"
            ],
            "text/latex": "$\\displaystyle e^{- t} \\sin{\\left(t \\right)}$"
          },
          "metadata": {}
        },
        {
          "output_type": "stream",
          "name": "stdout",
          "text": [
            "\n",
            "La transformada de Laplace F(s) es:\n"
          ]
        },
        {
          "output_type": "display_data",
          "data": {
            "text/plain": [
              "     1      \n",
              "────────────\n",
              "       2    \n",
              "(s + 1)  + 1"
            ],
            "text/latex": "$\\displaystyle \\frac{1}{\\left(s + 1\\right)^{2} + 1}$"
          },
          "metadata": {}
        }
      ],
      "source": [
        "t, s = sp.symbols('t s')\n",
        "\n",
        "f_t = sp.exp(-t)*sp.sin(t)\n",
        "\n",
        "laplace_f = sp.laplace_transform(f_t, t, s)\n",
        "\n",
        "print(\"La función f(t) es:\")\n",
        "display(f_t)\n",
        "print(\"\\nLa transformada de Laplace F(s) es:\")\n",
        "display(laplace_f[0])"
      ]
    },
    {
      "cell_type": "markdown",
      "id": "35f4dcf8",
      "metadata": {
        "id": "35f4dcf8"
      },
      "source": [
        "<img src=\"https://github.com/alanbtcz/Problemario_AlanBautistaCruz/blob/main/Problemario_Laplace/media/Laplace10.jpg?raw=1\" width=\"300\" align=\"center\">"
      ]
    },
    {
      "cell_type": "markdown",
      "id": "a5ad963d",
      "metadata": {
        "id": "a5ad963d"
      },
      "source": [
        "#### Ejercicio 10"
      ]
    },
    {
      "cell_type": "code",
      "execution_count": 12,
      "id": "7fa962cf",
      "metadata": {
        "id": "7fa962cf",
        "outputId": "9b210f8e-8cdf-4393-db6c-80666b3da959",
        "colab": {
          "base_uri": "https://localhost:8080/",
          "height": 143
        }
      },
      "outputs": [
        {
          "output_type": "stream",
          "name": "stdout",
          "text": [
            "La función f(t) es:\n"
          ]
        },
        {
          "output_type": "display_data",
          "data": {
            "text/plain": [
              "cos(2⋅t)   1\n",
              "──────── + ─\n",
              "   2       2"
            ],
            "text/latex": "$\\displaystyle \\frac{\\cos{\\left(2 t \\right)}}{2} + \\frac{1}{2}$"
          },
          "metadata": {}
        },
        {
          "output_type": "stream",
          "name": "stdout",
          "text": [
            "\n",
            "La transformada de Laplace F(s) es:\n"
          ]
        },
        {
          "output_type": "display_data",
          "data": {
            "text/plain": [
              "    s         1 \n",
              "────────── + ───\n",
              "  ⎛ 2    ⎞   2⋅s\n",
              "2⋅⎝s  + 4⎠      "
            ],
            "text/latex": "$\\displaystyle \\frac{s}{2 \\left(s^{2} + 4\\right)} + \\frac{1}{2 s}$"
          },
          "metadata": {}
        }
      ],
      "source": [
        "t, s = sp.symbols('t s')\n",
        "\n",
        "f_t = (1 + sp.cos(2*t)) / 2\n",
        "\n",
        "laplace_f = sp.laplace_transform(f_t, t, s)\n",
        "\n",
        "print(\"La función f(t) es:\")\n",
        "display(f_t)\n",
        "print(\"\\nLa transformada de Laplace F(s) es:\")\n",
        "display(laplace_f[0])"
      ]
    },
    {
      "cell_type": "markdown",
      "id": "1f27805b",
      "metadata": {
        "id": "1f27805b"
      },
      "source": [
        "<img src=\"https://github.com/alanbtcz/Problemario_AlanBautistaCruz/blob/main/Problemario_Laplace/media/Laplace11-12.jpg?raw=1\" width=\"300\" align=\"center\">"
      ]
    },
    {
      "cell_type": "markdown",
      "id": "01448c3c",
      "metadata": {
        "id": "01448c3c"
      },
      "source": [
        "#### Ejercicio 11"
      ]
    },
    {
      "cell_type": "code",
      "execution_count": 13,
      "id": "d65d255d",
      "metadata": {
        "id": "d65d255d",
        "outputId": "4cdd436d-ae94-492a-ec93-f551035e67e2",
        "colab": {
          "base_uri": "https://localhost:8080/",
          "height": 132
        }
      },
      "outputs": [
        {
          "output_type": "stream",
          "name": "stdout",
          "text": [
            "La función f(t) es:\n"
          ]
        },
        {
          "output_type": "display_data",
          "data": {
            "text/plain": [
              "   2   \n",
              "cos (t)"
            ],
            "text/latex": "$\\displaystyle \\cos^{2}{\\left(t \\right)}$"
          },
          "metadata": {}
        },
        {
          "output_type": "stream",
          "name": "stdout",
          "text": [
            "\n",
            "La transformada de Laplace F(s) es:\n"
          ]
        },
        {
          "output_type": "display_data",
          "data": {
            "text/plain": [
              "   2      \n",
              "  s  + 2  \n",
              "──────────\n",
              "  ⎛ 2    ⎞\n",
              "s⋅⎝s  + 4⎠"
            ],
            "text/latex": "$\\displaystyle \\frac{s^{2} + 2}{s \\left(s^{2} + 4\\right)}$"
          },
          "metadata": {}
        }
      ],
      "source": [
        "t, s = sp.symbols('t s')\n",
        "\n",
        "f_t = sp.cos(t)**2\n",
        "\n",
        "laplace_f = sp.laplace_transform(f_t, t, s)\n",
        "\n",
        "print(\"La función f(t) es:\")\n",
        "display(f_t)\n",
        "print(\"\\nLa transformada de Laplace F(s) es:\")\n",
        "display(laplace_f[0])"
      ]
    },
    {
      "cell_type": "markdown",
      "id": "85580177",
      "metadata": {
        "id": "85580177"
      },
      "source": [
        "#### Ejercicio 12"
      ]
    },
    {
      "cell_type": "code",
      "execution_count": 14,
      "id": "39b8cf16",
      "metadata": {
        "id": "39b8cf16",
        "outputId": "ea1eb864-287f-4a2a-fcfa-4d952c788ba4",
        "colab": {
          "base_uri": "https://localhost:8080/",
          "height": 131
        }
      },
      "outputs": [
        {
          "output_type": "stream",
          "name": "stdout",
          "text": [
            "La función f(t) es:\n"
          ]
        },
        {
          "output_type": "display_data",
          "data": {
            "text/plain": [
              " 2  α⋅t\n",
              "t ⋅ℯ   "
            ],
            "text/latex": "$\\displaystyle t^{2} e^{\\alpha t}$"
          },
          "metadata": {}
        },
        {
          "output_type": "stream",
          "name": "stdout",
          "text": [
            "\n",
            "La transformada de Laplace F(s) es:\n"
          ]
        },
        {
          "output_type": "display_data",
          "data": {
            "text/plain": [
              "    2    \n",
              "─────────\n",
              "        3\n",
              "(-α + s) "
            ],
            "text/latex": "$\\displaystyle \\frac{2}{\\left(- \\alpha + s\\right)^{3}}$"
          },
          "metadata": {}
        }
      ],
      "source": [
        "t, s, alpha = sp.symbols('t s alpha')\n",
        "\n",
        "f_t = t**2 * sp.exp(alpha*t)\n",
        "\n",
        "laplace_f = sp.laplace_transform(f_t, t, s)\n",
        "\n",
        "print(\"La función f(t) es:\")\n",
        "display(f_t)\n",
        "print(\"\\nLa transformada de Laplace F(s) es:\")\n",
        "display(laplace_f[0])"
      ]
    },
    {
      "cell_type": "markdown",
      "id": "e533a39f",
      "metadata": {
        "id": "e533a39f"
      },
      "source": [
        "# La inversa de Laplace"
      ]
    },
    {
      "cell_type": "markdown",
      "id": "22379c89",
      "metadata": {
        "id": "22379c89"
      },
      "source": [
        "<img src=\"https://github.com/alanbtcz/Problemario_AlanBautistaCruz/blob/main/Problemario_Laplace/media/Inv1-3.jpg?raw=1\" width=\"300\" align=\"center\">"
      ]
    },
    {
      "cell_type": "markdown",
      "id": "627fe404",
      "metadata": {
        "id": "627fe404"
      },
      "source": [
        "#### Ejercicio 1"
      ]
    },
    {
      "cell_type": "code",
      "execution_count": 15,
      "id": "188f2f83",
      "metadata": {
        "id": "188f2f83",
        "outputId": "879ee3db-6974-41c0-f5e3-57904b61cc96",
        "colab": {
          "base_uri": "https://localhost:8080/",
          "height": 140
        }
      },
      "outputs": [
        {
          "output_type": "stream",
          "name": "stdout",
          "text": [
            "La función F(s) es:\n"
          ]
        },
        {
          "output_type": "display_data",
          "data": {
            "text/plain": [
              "1 \n",
              "──\n",
              " 5\n",
              "s "
            ],
            "text/latex": "$\\displaystyle \\frac{1}{s^{5}}$"
          },
          "metadata": {}
        },
        {
          "output_type": "stream",
          "name": "stdout",
          "text": [
            "\n",
            "La transformada inversa f(t) es:\n"
          ]
        },
        {
          "output_type": "display_data",
          "data": {
            "text/plain": [
              " 4     \n",
              "t ⋅θ(t)\n",
              "───────\n",
              "  24   "
            ],
            "text/latex": "$\\displaystyle \\frac{t^{4} \\theta\\left(t\\right)}{24}$"
          },
          "metadata": {}
        }
      ],
      "source": [
        "s, t = sp.symbols('s t')\n",
        "\n",
        "F_s = 1/s**5\n",
        "\n",
        "f_t = sp.inverse_laplace_transform(F_s, s, t)\n",
        "\n",
        "print(\"La función F(s) es:\")\n",
        "display(F_s)\n",
        "print(\"\\nLa transformada inversa f(t) es:\")\n",
        "display(f_t)"
      ]
    },
    {
      "cell_type": "markdown",
      "id": "eec71a83",
      "metadata": {
        "id": "eec71a83"
      },
      "source": [
        "#### Ejercicio 2\n"
      ]
    },
    {
      "cell_type": "code",
      "execution_count": 16,
      "id": "7d07cab2",
      "metadata": {
        "id": "7d07cab2",
        "outputId": "5d4b88f4-23e9-4dd0-dc52-6b17abae242a",
        "colab": {
          "base_uri": "https://localhost:8080/",
          "height": 144
        }
      },
      "outputs": [
        {
          "output_type": "stream",
          "name": "stdout",
          "text": [
            "La función F(s) es:\n"
          ]
        },
        {
          "output_type": "display_data",
          "data": {
            "text/plain": [
              "  1   \n",
              "──────\n",
              " 2    \n",
              "s  + 7"
            ],
            "text/latex": "$\\displaystyle \\frac{1}{s^{2} + 7}$"
          },
          "metadata": {}
        },
        {
          "output_type": "stream",
          "name": "stdout",
          "text": [
            "\n",
            "La transformada inversa f(t) es:\n"
          ]
        },
        {
          "output_type": "display_data",
          "data": {
            "text/plain": [
              "√7⋅sin(√7⋅t)⋅θ(t)\n",
              "─────────────────\n",
              "        7        "
            ],
            "text/latex": "$\\displaystyle \\frac{\\sqrt{7} \\sin{\\left(\\sqrt{7} t \\right)} \\theta\\left(t\\right)}{7}$"
          },
          "metadata": {}
        }
      ],
      "source": [
        "s, t = sp.symbols('s t')\n",
        "\n",
        "F_s = 1/(s**2 + 7)\n",
        "\n",
        "f_t = sp.inverse_laplace_transform(F_s, s, t)\n",
        "\n",
        "print(\"La función F(s) es:\")\n",
        "display(F_s)\n",
        "print(\"\\nLa transformada inversa f(t) es:\")\n",
        "display(f_t)"
      ]
    },
    {
      "cell_type": "markdown",
      "id": "22363166",
      "metadata": {
        "id": "22363166"
      },
      "source": [
        "#### Ejercicio 3"
      ]
    },
    {
      "cell_type": "code",
      "execution_count": 17,
      "id": "568a6c83",
      "metadata": {
        "id": "568a6c83",
        "outputId": "4086b4dd-3aab-4f41-b283-df8a7ba82a3a",
        "colab": {
          "base_uri": "https://localhost:8080/",
          "height": 140
        }
      },
      "outputs": [
        {
          "output_type": "stream",
          "name": "stdout",
          "text": [
            "La función F(s) es:\n"
          ]
        },
        {
          "output_type": "display_data",
          "data": {
            "text/plain": [
              "1 \n",
              "──\n",
              " 4\n",
              "s "
            ],
            "text/latex": "$\\displaystyle \\frac{1}{s^{4}}$"
          },
          "metadata": {}
        },
        {
          "output_type": "stream",
          "name": "stdout",
          "text": [
            "\n",
            "La transformada inversa f(t) es:\n"
          ]
        },
        {
          "output_type": "display_data",
          "data": {
            "text/plain": [
              " 3     \n",
              "t ⋅θ(t)\n",
              "───────\n",
              "   6   "
            ],
            "text/latex": "$\\displaystyle \\frac{t^{3} \\theta\\left(t\\right)}{6}$"
          },
          "metadata": {}
        }
      ],
      "source": [
        "s, t = sp.symbols('s t')\n",
        "\n",
        "F_s = 1/s**4\n",
        "\n",
        "f_t = sp.inverse_laplace_transform(F_s, s, t)\n",
        "\n",
        "print(\"La función F(s) es:\")\n",
        "display(F_s)\n",
        "print(\"\\nLa transformada inversa f(t) es:\")\n",
        "display(f_t)"
      ]
    },
    {
      "cell_type": "markdown",
      "id": "7be0551f",
      "metadata": {
        "id": "7be0551f"
      },
      "source": [
        "<img src=\"https://github.com/alanbtcz/Problemario_AlanBautistaCruz/blob/main/Problemario_Laplace/media/Inv4-5.jpg?raw=1\" width=\"300\" align=\"center\">"
      ]
    },
    {
      "cell_type": "markdown",
      "id": "ae17b259",
      "metadata": {
        "id": "ae17b259"
      },
      "source": [
        "#### Ejercicio 4"
      ]
    },
    {
      "cell_type": "code",
      "execution_count": 18,
      "id": "572d3722",
      "metadata": {
        "id": "572d3722",
        "outputId": "075e35c2-4609-4260-dd71-a6258678da5b",
        "colab": {
          "base_uri": "https://localhost:8080/",
          "height": 150
        }
      },
      "outputs": [
        {
          "output_type": "stream",
          "name": "stdout",
          "text": [
            "La función F(s) es:\n"
          ]
        },
        {
          "output_type": "display_data",
          "data": {
            "text/plain": [
              "        2\n",
              "⎛2   1 ⎞ \n",
              "⎜─ - ──⎟ \n",
              "⎜s    3⎟ \n",
              "⎝    s ⎠ "
            ],
            "text/latex": "$\\displaystyle \\left(\\frac{2}{s} - \\frac{1}{s^{3}}\\right)^{2}$"
          },
          "metadata": {}
        },
        {
          "output_type": "stream",
          "name": "stdout",
          "text": [
            "\n",
            "La transformada inversa f(t) es:\n"
          ]
        },
        {
          "output_type": "display_data",
          "data": {
            "text/plain": [
              " 5           3                \n",
              "t ⋅θ(t)   2⋅t ⋅θ(t)           \n",
              "─────── - ───────── + 4⋅t⋅θ(t)\n",
              "  120         3               "
            ],
            "text/latex": "$\\displaystyle \\frac{t^{5} \\theta\\left(t\\right)}{120} - \\frac{2 t^{3} \\theta\\left(t\\right)}{3} + 4 t \\theta\\left(t\\right)$"
          },
          "metadata": {}
        }
      ],
      "source": [
        "s, t = sp.symbols('s t')\n",
        "\n",
        "F_s = (2/s - 1/s**3)**2\n",
        "\n",
        "f_t = sp.inverse_laplace_transform(F_s, s, t)\n",
        "\n",
        "print(\"La función F(s) es:\")\n",
        "display(F_s)\n",
        "print(\"\\nLa transformada inversa f(t) es:\")\n",
        "display(f_t)\n"
      ]
    },
    {
      "cell_type": "markdown",
      "id": "c800aa1f",
      "metadata": {
        "id": "c800aa1f"
      },
      "source": [
        "<img src=\"https://github.com/alanbtcz/Problemario_AlanBautistaCruz/blob/main/Problemario_Laplace/media/Inv5-6.jpg?raw=1\" width=\"300\" align=\"center\">"
      ]
    },
    {
      "cell_type": "markdown",
      "id": "d361cd87",
      "metadata": {
        "id": "d361cd87"
      },
      "source": [
        "#### Ejercicio 5"
      ]
    },
    {
      "cell_type": "code",
      "execution_count": 19,
      "id": "829bc95d",
      "metadata": {
        "id": "829bc95d",
        "outputId": "900c61c9-b87e-46b1-b591-6f928904dbd9",
        "colab": {
          "base_uri": "https://localhost:8080/",
          "height": 126
        }
      },
      "outputs": [
        {
          "output_type": "stream",
          "name": "stdout",
          "text": [
            "La función F(s) es:\n"
          ]
        },
        {
          "output_type": "display_data",
          "data": {
            "text/plain": [
              " 10⋅s  \n",
              "───────\n",
              " 2     \n",
              "s  + 16"
            ],
            "text/latex": "$\\displaystyle \\frac{10 s}{s^{2} + 16}$"
          },
          "metadata": {}
        },
        {
          "output_type": "stream",
          "name": "stdout",
          "text": [
            "\n",
            "La transformada inversa f(t) es:\n"
          ]
        },
        {
          "output_type": "display_data",
          "data": {
            "text/plain": [
              "10⋅cos(4⋅t)⋅θ(t)"
            ],
            "text/latex": "$\\displaystyle 10 \\cos{\\left(4 t \\right)} \\theta\\left(t\\right)$"
          },
          "metadata": {}
        }
      ],
      "source": [
        "s, t = sp.symbols('s t')\n",
        "\n",
        "F_s = (10*s)/(s**2 + 16)\n",
        "\n",
        "f_t = sp.inverse_laplace_transform(F_s, s, t)\n",
        "\n",
        "print(\"La función F(s) es:\")\n",
        "display(F_s)\n",
        "print(\"\\nLa transformada inversa f(t) es:\")\n",
        "display(f_t)"
      ]
    },
    {
      "cell_type": "markdown",
      "id": "a547d5f6",
      "metadata": {
        "id": "a547d5f6"
      },
      "source": [
        "#### Ejercicio 6"
      ]
    },
    {
      "cell_type": "code",
      "execution_count": 20,
      "id": "66857c5d",
      "metadata": {
        "id": "66857c5d",
        "outputId": "cf9d1c80-3953-49ca-bf5c-cf9a2ac476c7",
        "colab": {
          "base_uri": "https://localhost:8080/",
          "height": 138
        }
      },
      "outputs": [
        {
          "output_type": "stream",
          "name": "stdout",
          "text": [
            "La función F(s) es:\n"
          ]
        },
        {
          "output_type": "display_data",
          "data": {
            "text/plain": [
              "     s      \n",
              "────────────\n",
              " 2          \n",
              "s  + 2⋅s - 3"
            ],
            "text/latex": "$\\displaystyle \\frac{s}{s^{2} + 2 s - 3}$"
          },
          "metadata": {}
        },
        {
          "output_type": "stream",
          "name": "stdout",
          "text": [
            "\n",
            "La transformada inversa f(t) es:\n"
          ]
        },
        {
          "output_type": "display_data",
          "data": {
            "text/plain": [
              " t           -3⋅t     \n",
              "ℯ ⋅θ(t)   3⋅ℯ    ⋅θ(t)\n",
              "─────── + ────────────\n",
              "   4           4      "
            ],
            "text/latex": "$\\displaystyle \\frac{e^{t} \\theta\\left(t\\right)}{4} + \\frac{3 e^{- 3 t} \\theta\\left(t\\right)}{4}$"
          },
          "metadata": {}
        }
      ],
      "source": [
        "s, t = sp.symbols('s t')\n",
        "\n",
        "F_s = s/(s**2 + 2*s - 3)\n",
        "\n",
        "f_t = sp.inverse_laplace_transform(F_s, s, t)\n",
        "\n",
        "print(\"La función F(s) es:\")\n",
        "display(F_s)\n",
        "print(\"\\nLa transformada inversa f(t) es:\")\n",
        "display(f_t)"
      ]
    },
    {
      "cell_type": "markdown",
      "id": "68b40f44",
      "metadata": {
        "id": "68b40f44"
      },
      "source": [
        "<img src=\"https://github.com/alanbtcz/Problemario_AlanBautistaCruz/blob/main/Problemario_Laplace/media/Inv7-8.jpg?raw=1\" width=\"300\" align=\"center\">"
      ]
    },
    {
      "cell_type": "markdown",
      "id": "d26c0c5d",
      "metadata": {
        "id": "d26c0c5d"
      },
      "source": [
        "#### Ejercicio 7"
      ]
    },
    {
      "cell_type": "code",
      "execution_count": 21,
      "id": "9f197a4a",
      "metadata": {
        "id": "9f197a4a",
        "outputId": "fd83ab83-4033-419b-fa6b-fa4eb8eca432",
        "colab": {
          "base_uri": "https://localhost:8080/",
          "height": 144
        }
      },
      "outputs": [
        {
          "output_type": "stream",
          "name": "stdout",
          "text": [
            "La función F(s) es:\n"
          ]
        },
        {
          "output_type": "display_data",
          "data": {
            "text/plain": [
              "   1    \n",
              "────────\n",
              " 3      \n",
              "s  + 5⋅s"
            ],
            "text/latex": "$\\displaystyle \\frac{1}{s^{3} + 5 s}$"
          },
          "metadata": {}
        },
        {
          "output_type": "stream",
          "name": "stdout",
          "text": [
            "\n",
            "La transformada inversa f(t) es:\n"
          ]
        },
        {
          "output_type": "display_data",
          "data": {
            "text/plain": [
              "  cos(√5⋅t)⋅θ(t)   θ(t)\n",
              "- ────────────── + ────\n",
              "        5           5  "
            ],
            "text/latex": "$\\displaystyle - \\frac{\\cos{\\left(\\sqrt{5} t \\right)} \\theta\\left(t\\right)}{5} + \\frac{\\theta\\left(t\\right)}{5}$"
          },
          "metadata": {}
        }
      ],
      "source": [
        "s, t = sp.symbols('s t')\n",
        "\n",
        "F_s = 1/(s**3 + 5*s)\n",
        "\n",
        "f_t = sp.inverse_laplace_transform(F_s, s, t)\n",
        "\n",
        "print(\"La función F(s) es:\")\n",
        "display(F_s)\n",
        "print(\"\\nLa transformada inversa f(t) es:\")\n",
        "display(f_t)"
      ]
    },
    {
      "cell_type": "markdown",
      "id": "f449442a",
      "metadata": {
        "id": "f449442a"
      },
      "source": [
        "#### Ejercicio 8"
      ]
    },
    {
      "cell_type": "code",
      "execution_count": 22,
      "id": "6f4a305e",
      "metadata": {
        "id": "6f4a305e",
        "outputId": "66846431-686e-4cb8-d39d-171ef9868805",
        "colab": {
          "base_uri": "https://localhost:8080/",
          "height": 141
        }
      },
      "outputs": [
        {
          "output_type": "stream",
          "name": "stdout",
          "text": [
            "La función F(s) es:\n"
          ]
        },
        {
          "output_type": "display_data",
          "data": {
            "text/plain": [
              " s + 1  \n",
              "────────\n",
              " 2      \n",
              "s  - 4⋅s"
            ],
            "text/latex": "$\\displaystyle \\frac{s + 1}{s^{2} - 4 s}$"
          },
          "metadata": {}
        },
        {
          "output_type": "stream",
          "name": "stdout",
          "text": [
            "\n",
            "La transformada inversa f(t) es:\n"
          ]
        },
        {
          "output_type": "display_data",
          "data": {
            "text/plain": [
              "   4⋅t            \n",
              "5⋅ℯ   ⋅θ(t)   θ(t)\n",
              "─────────── - ────\n",
              "     4         4  "
            ],
            "text/latex": "$\\displaystyle \\frac{5 e^{4 t} \\theta\\left(t\\right)}{4} - \\frac{\\theta\\left(t\\right)}{4}$"
          },
          "metadata": {}
        }
      ],
      "source": [
        "s, t = sp.symbols('s t')\n",
        "\n",
        "F_s = (s + 1)/(s**2 - 4*s)\n",
        "\n",
        "f_t = sp.inverse_laplace_transform(F_s, s, t)\n",
        "\n",
        "print(\"La función F(s) es:\")\n",
        "display(F_s)\n",
        "print(\"\\nLa transformada inversa f(t) es:\")\n",
        "display(f_t)"
      ]
    },
    {
      "cell_type": "markdown",
      "id": "00da280b",
      "metadata": {
        "id": "00da280b"
      },
      "source": [
        "<img src=\"https://github.com/alanbtcz/Problemario_AlanBautistaCruz/blob/main/Problemario_Laplace/media/Inv9-10.jpg?raw=1\" width=\"300\" align=\"center\">"
      ]
    },
    {
      "cell_type": "markdown",
      "id": "1983320f",
      "metadata": {
        "id": "1983320f"
      },
      "source": [
        "#### Ejercicio 9"
      ]
    },
    {
      "cell_type": "code",
      "execution_count": 23,
      "id": "bc0fc462",
      "metadata": {
        "id": "bc0fc462",
        "outputId": "dd99fb0f-1d9d-4da4-8985-b6c25a7f0aee",
        "colab": {
          "base_uri": "https://localhost:8080/",
          "height": 141
        }
      },
      "outputs": [
        {
          "output_type": "stream",
          "name": "stdout",
          "text": [
            "La función F(s) es:\n"
          ]
        },
        {
          "output_type": "display_data",
          "data": {
            "text/plain": [
              "  2⋅s - 3   \n",
              "────────────\n",
              " 2          \n",
              "s  - 7⋅s - 8"
            ],
            "text/latex": "$\\displaystyle \\frac{2 s - 3}{s^{2} - 7 s - 8}$"
          },
          "metadata": {}
        },
        {
          "output_type": "stream",
          "name": "stdout",
          "text": [
            "\n",
            "La transformada inversa f(t) es:\n"
          ]
        },
        {
          "output_type": "display_data",
          "data": {
            "text/plain": [
              "    8⋅t           -t     \n",
              "13⋅ℯ   ⋅θ(t)   5⋅ℯ  ⋅θ(t)\n",
              "──────────── + ──────────\n",
              "     9             9     "
            ],
            "text/latex": "$\\displaystyle \\frac{13 e^{8 t} \\theta\\left(t\\right)}{9} + \\frac{5 e^{- t} \\theta\\left(t\\right)}{9}$"
          },
          "metadata": {}
        }
      ],
      "source": [
        "s, t = sp.symbols('s t')\n",
        "\n",
        "F_s = (2*s - 3)/(s**2 - 7*s - 8)\n",
        "\n",
        "f_t = sp.inverse_laplace_transform(F_s, s, t)\n",
        "\n",
        "print(\"La función F(s) es:\")\n",
        "display(F_s)\n",
        "print(\"\\nLa transformada inversa f(t) es:\")\n",
        "display(f_t)"
      ]
    },
    {
      "cell_type": "markdown",
      "id": "089327c9",
      "metadata": {
        "id": "089327c9"
      },
      "source": [
        "#### Ejercicio 10"
      ]
    },
    {
      "cell_type": "code",
      "execution_count": 24,
      "id": "40e21a22",
      "metadata": {
        "id": "40e21a22",
        "outputId": "cc7010c3-a230-407e-950d-094c7456aeeb",
        "colab": {
          "base_uri": "https://localhost:8080/",
          "height": 145
        }
      },
      "outputs": [
        {
          "output_type": "stream",
          "name": "stdout",
          "text": [
            "La función F(s) es:\n"
          ]
        },
        {
          "output_type": "display_data",
          "data": {
            "text/plain": [
              "  4⋅s   \n",
              "────────\n",
              "   2    \n",
              "4⋅s  + 1"
            ],
            "text/latex": "$\\displaystyle \\frac{4 s}{4 s^{2} + 1}$"
          },
          "metadata": {}
        },
        {
          "output_type": "stream",
          "name": "stdout",
          "text": [
            "\n",
            "La transformada inversa f(t) es:\n"
          ]
        },
        {
          "output_type": "display_data",
          "data": {
            "text/plain": [
              "   ⎛t⎞     \n",
              "cos⎜─⎟⋅θ(t)\n",
              "   ⎝2⎠     "
            ],
            "text/latex": "$\\displaystyle \\cos{\\left(\\frac{t}{2} \\right)} \\theta\\left(t\\right)$"
          },
          "metadata": {}
        }
      ],
      "source": [
        "s, t = sp.symbols('s t')\n",
        "\n",
        "F_s = (4*s)/(4*s**2 + 1)\n",
        "\n",
        "f_t = sp.inverse_laplace_transform(F_s, s, t)\n",
        "\n",
        "print(\"La función F(s) es:\")\n",
        "display(F_s)\n",
        "print(\"\\nLa transformada inversa f(t) es:\")\n",
        "display(f_t)"
      ]
    },
    {
      "cell_type": "markdown",
      "id": "285e0261",
      "metadata": {
        "id": "285e0261"
      },
      "source": [
        "<img src=\"https://github.com/alanbtcz/Problemario_AlanBautistaCruz/blob/main/Problemario_Laplace/media/Inv11-12.jpg?raw=1\" width=\"300\" align=\"center\">"
      ]
    },
    {
      "cell_type": "markdown",
      "id": "ace5b80f",
      "metadata": {
        "id": "ace5b80f"
      },
      "source": [
        "#### Ejercicio 11"
      ]
    },
    {
      "cell_type": "code",
      "execution_count": 25,
      "id": "54498c6a",
      "metadata": {
        "id": "54498c6a",
        "outputId": "fc846b5e-98de-4166-d905-0f0aeeb031bc",
        "colab": {
          "base_uri": "https://localhost:8080/",
          "height": 140
        }
      },
      "outputs": [
        {
          "output_type": "stream",
          "name": "stdout",
          "text": [
            "La función F(s) es:\n"
          ]
        },
        {
          "output_type": "display_data",
          "data": {
            "text/plain": [
              "   5   \n",
              "───────\n",
              " 2     \n",
              "s  + 49"
            ],
            "text/latex": "$\\displaystyle \\frac{5}{s^{2} + 49}$"
          },
          "metadata": {}
        },
        {
          "output_type": "stream",
          "name": "stdout",
          "text": [
            "\n",
            "La transformada inversa f(t) es:\n"
          ]
        },
        {
          "output_type": "display_data",
          "data": {
            "text/plain": [
              "5⋅sin(7⋅t)⋅θ(t)\n",
              "───────────────\n",
              "       7       "
            ],
            "text/latex": "$\\displaystyle \\frac{5 \\sin{\\left(7 t \\right)} \\theta\\left(t\\right)}{7}$"
          },
          "metadata": {}
        }
      ],
      "source": [
        "s, t = sp.symbols('s t')\n",
        "\n",
        "F_s = 5/(s**2 + 49)\n",
        "\n",
        "f_t = sp.inverse_laplace_transform(F_s, s, t)\n",
        "\n",
        "print(\"La función F(s) es:\")\n",
        "display(F_s)\n",
        "print(\"\\nLa transformada inversa f(t) es:\")\n",
        "display(f_t)"
      ]
    },
    {
      "cell_type": "markdown",
      "id": "c52b1201",
      "metadata": {
        "id": "c52b1201"
      },
      "source": [
        "#### Ejercicio 12"
      ]
    },
    {
      "cell_type": "code",
      "execution_count": 26,
      "id": "78d147ee",
      "metadata": {
        "id": "78d147ee",
        "outputId": "e573adef-2c87-412d-a71f-e21b1d2e5ac8",
        "colab": {
          "base_uri": "https://localhost:8080/",
          "height": 148
        }
      },
      "outputs": [
        {
          "output_type": "stream",
          "name": "stdout",
          "text": [
            "La función F(s) es:\n"
          ]
        },
        {
          "output_type": "display_data",
          "data": {
            "text/plain": [
              "     6⋅s + 3     \n",
              "─────────────────\n",
              "⎛ 2    ⎞ ⎛ 2    ⎞\n",
              "⎝s  + 1⎠⋅⎝s  + 4⎠"
            ],
            "text/latex": "$\\displaystyle \\frac{6 s + 3}{\\left(s^{2} + 1\\right) \\left(s^{2} + 4\\right)}$"
          },
          "metadata": {}
        },
        {
          "output_type": "stream",
          "name": "stdout",
          "text": [
            "\n",
            "La transformada inversa f(t) es:\n"
          ]
        },
        {
          "output_type": "display_data",
          "data": {
            "text/plain": [
              "                           ⎛  sin(2⋅t)             ⎞     \n",
              "(sin(t) + 2⋅cos(t))⋅θ(t) + ⎜- ──────── - 2⋅cos(2⋅t)⎟⋅θ(t)\n",
              "                           ⎝     2                 ⎠     "
            ],
            "text/latex": "$\\displaystyle \\left(\\sin{\\left(t \\right)} + 2 \\cos{\\left(t \\right)}\\right) \\theta\\left(t\\right) + \\left(- \\frac{\\sin{\\left(2 t \\right)}}{2} - 2 \\cos{\\left(2 t \\right)}\\right) \\theta\\left(t\\right)$"
          },
          "metadata": {}
        }
      ],
      "source": [
        "s, t = sp.symbols('s t')\n",
        "\n",
        "F_s = (6*s + 3)/((s**2 + 1)*(s**2 + 4))\n",
        "\n",
        "f_t = sp.inverse_laplace_transform(F_s, s, t)\n",
        "\n",
        "print(\"La función F(s) es:\")\n",
        "display(F_s)\n",
        "print(\"\\nLa transformada inversa f(t) es:\")\n",
        "display(f_t)"
      ]
    },
    {
      "cell_type": "markdown",
      "id": "cced9b79",
      "metadata": {
        "id": "cced9b79"
      },
      "source": [
        "<img src=\"https://github.com/alanbtcz/Problemario_AlanBautistaCruz/blob/main/Problemario_Laplace/media/Inv13.jpg?raw=1\" width=\"300\" align=\"center\">\n",
        "<img src=\"https://github.com/alanbtcz/Problemario_AlanBautistaCruz/blob/main/Problemario_Laplace/media/Inv131.jpg?raw=1\" width=\"300\" align=\"center\">"
      ]
    },
    {
      "cell_type": "markdown",
      "id": "3788d566",
      "metadata": {
        "id": "3788d566"
      },
      "source": [
        "#### Ejercicio 13"
      ]
    },
    {
      "cell_type": "code",
      "execution_count": 27,
      "id": "4cea27e2",
      "metadata": {
        "id": "4cea27e2",
        "outputId": "20541af6-9afb-4bf3-c792-c0ff4cb6b2aa",
        "colab": {
          "base_uri": "https://localhost:8080/",
          "height": 149
        }
      },
      "outputs": [
        {
          "output_type": "stream",
          "name": "stdout",
          "text": [
            "La función F(s) es:\n"
          ]
        },
        {
          "output_type": "display_data",
          "data": {
            "text/plain": [
              "       5        \n",
              "────────────────\n",
              "        ⎛ 2    ⎞\n",
              "(s + 2)⋅⎝s  + 4⎠"
            ],
            "text/latex": "$\\displaystyle \\frac{5}{\\left(s + 2\\right) \\left(s^{2} + 4\\right)}$"
          },
          "metadata": {}
        },
        {
          "output_type": "stream",
          "name": "stdout",
          "text": [
            "\n",
            "La transformada inversa f(t) es:\n"
          ]
        },
        {
          "output_type": "display_data",
          "data": {
            "text/plain": [
              "                                  -2⋅t     \n",
              "  ⎛sin(2⋅t)   cos(2⋅t)⎞        5⋅ℯ    ⋅θ(t)\n",
              "5⋅⎜──────── - ────────⎟⋅θ(t) + ────────────\n",
              "  ⎝   8          8    ⎠             8      "
            ],
            "text/latex": "$\\displaystyle 5 \\left(\\frac{\\sin{\\left(2 t \\right)}}{8} - \\frac{\\cos{\\left(2 t \\right)}}{8}\\right) \\theta\\left(t\\right) + \\frac{5 e^{- 2 t} \\theta\\left(t\\right)}{8}$"
          },
          "metadata": {}
        }
      ],
      "source": [
        "s, t = sp.symbols('s t')\n",
        "\n",
        "F_s = 5/((s**2 + 4)*(s + 2))\n",
        "\n",
        "f_t = sp.inverse_laplace_transform(F_s, s, t)\n",
        "\n",
        "print(\"La función F(s) es:\")\n",
        "display(F_s)\n",
        "print(\"\\nLa transformada inversa f(t) es:\")\n",
        "display(f_t)"
      ]
    }
  ],
  "metadata": {
    "kernelspec": {
      "display_name": "Python 3",
      "language": "python",
      "name": "python3"
    },
    "language_info": {
      "codemirror_mode": {
        "name": "ipython",
        "version": 3
      },
      "file_extension": ".py",
      "mimetype": "text/x-python",
      "name": "python",
      "nbconvert_exporter": "python",
      "pygments_lexer": "ipython3",
      "version": "3.12.6"
    },
    "colab": {
      "provenance": []
    }
  },
  "nbformat": 4,
  "nbformat_minor": 5
}